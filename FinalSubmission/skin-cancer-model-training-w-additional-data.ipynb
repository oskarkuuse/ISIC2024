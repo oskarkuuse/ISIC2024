{
 "cells": [
  {
   "cell_type": "code",
   "execution_count": 1,
   "id": "dd5f699e",
   "metadata": {
    "execution": {
     "iopub.execute_input": "2024-08-07T09:03:57.269099Z",
     "iopub.status.busy": "2024-08-07T09:03:57.268035Z",
     "iopub.status.idle": "2024-08-07T09:04:23.341395Z",
     "shell.execute_reply": "2024-08-07T09:04:23.340159Z"
    },
    "papermill": {
     "duration": 26.085435,
     "end_time": "2024-08-07T09:04:23.344151",
     "exception": false,
     "start_time": "2024-08-07T09:03:57.258716",
     "status": "completed"
    },
    "tags": []
   },
   "outputs": [
    {
     "name": "stdout",
     "output_type": "stream",
     "text": [
      "Collecting torcheval\r\n",
      "  Downloading torcheval-0.0.7-py3-none-any.whl.metadata (8.6 kB)\r\n",
      "Requirement already satisfied: typing-extensions in /opt/conda/lib/python3.10/site-packages (from torcheval) (4.9.0)\r\n",
      "Downloading torcheval-0.0.7-py3-none-any.whl (179 kB)\r\n",
      "\u001b[2K   \u001b[90m━━━━━━━━━━━━━━━━━━━━━━━━━━━━━━━━━━━━━━━━\u001b[0m \u001b[32m179.2/179.2 kB\u001b[0m \u001b[31m3.5 MB/s\u001b[0m eta \u001b[36m0:00:00\u001b[0m\r\n",
      "\u001b[?25hInstalling collected packages: torcheval\r\n",
      "Successfully installed torcheval-0.0.7\r\n"
     ]
    }
   ],
   "source": [
    "import h5py\n",
    "from io import BytesIO\n",
    "from PIL import Image\n",
    "import numpy as np\n",
    "import pandas as pd\n",
    "from matplotlib import pyplot as plt\n",
    "import wandb\n",
    "import copy\n",
    "import os\n",
    "\n",
    "import albumentations as A\n",
    "from albumentations.pytorch import ToTensorV2\n",
    "\n",
    "import torch\n",
    "from torch.utils.data import Dataset, DataLoader, WeightedRandomSampler\n",
    "import torchvision\n",
    "from torchvision.transforms import v2\n",
    "\n",
    "from torchvision.models import efficientnet_b0, EfficientNet_B0_Weights\n",
    "\n",
    "!pip install torcheval\n",
    "from torcheval.metrics import BinaryAUROC"
   ]
  },
  {
   "cell_type": "code",
   "execution_count": 2,
   "id": "083e1308",
   "metadata": {
    "execution": {
     "iopub.execute_input": "2024-08-07T09:04:23.362207Z",
     "iopub.status.busy": "2024-08-07T09:04:23.360801Z",
     "iopub.status.idle": "2024-08-07T09:04:23.540581Z",
     "shell.execute_reply": "2024-08-07T09:04:23.539371Z"
    },
    "papermill": {
     "duration": 0.191528,
     "end_time": "2024-08-07T09:04:23.543595",
     "exception": false,
     "start_time": "2024-08-07T09:04:23.352067",
     "status": "completed"
    },
    "tags": []
   },
   "outputs": [],
   "source": [
    "meta1 = pd.read_csv('/kaggle/input/isic-2018-jpg-224x224-resized/train-metadata.csv')\n",
    "meta2 = pd.read_csv('/kaggle/input/isic-2019-jpg-224x224-resized/train-metadata.csv')\n",
    "meta3 = pd.read_csv('/kaggle/input/isic-2020-jpg-224x224-resized/train-metadata.csv')"
   ]
  },
  {
   "cell_type": "code",
   "execution_count": 3,
   "id": "8427f355",
   "metadata": {
    "execution": {
     "iopub.execute_input": "2024-08-07T09:04:23.560197Z",
     "iopub.status.busy": "2024-08-07T09:04:23.559476Z",
     "iopub.status.idle": "2024-08-07T09:04:23.589172Z",
     "shell.execute_reply": "2024-08-07T09:04:23.588216Z"
    },
    "papermill": {
     "duration": 0.040452,
     "end_time": "2024-08-07T09:04:23.591659",
     "exception": false,
     "start_time": "2024-08-07T09:04:23.551207",
     "status": "completed"
    },
    "tags": []
   },
   "outputs": [],
   "source": [
    "meta1 = meta1[meta1['target'] == 1][['isic_id', 'target']]\n",
    "meta2 = meta2[meta2['target'] == 1][['isic_id', 'target']]\n",
    "meta3 = meta3[meta3['target'] == 1][['isic_id', 'target']]\n",
    "\n",
    "meta1['year'] = 18\n",
    "meta2['year'] = 19\n",
    "meta3['year'] = 20\n",
    "\n",
    "meta = pd.concat([meta1, meta2, meta3])\n",
    "\n",
    "meta = meta.reset_index(drop=True)"
   ]
  },
  {
   "cell_type": "code",
   "execution_count": 4,
   "id": "35a6613a",
   "metadata": {
    "execution": {
     "iopub.execute_input": "2024-08-07T09:04:23.607946Z",
     "iopub.status.busy": "2024-08-07T09:04:23.607584Z",
     "iopub.status.idle": "2024-08-07T09:04:39.124103Z",
     "shell.execute_reply": "2024-08-07T09:04:39.122918Z"
    },
    "papermill": {
     "duration": 15.52756,
     "end_time": "2024-08-07T09:04:39.126751",
     "exception": false,
     "start_time": "2024-08-07T09:04:23.599191",
     "status": "completed"
    },
    "tags": []
   },
   "outputs": [],
   "source": [
    "remove = []\n",
    "for idx, row in meta.iterrows():\n",
    "    if not os.path.isfile(f'/kaggle/input/isic-20{row[\"year\"]}-jpg-224x224-resized/train-image/image/{row[\"isic_id\"]}.jpg'):\n",
    "        remove.append(idx)\n",
    "        \n",
    "meta = meta.drop(index=remove)"
   ]
  },
  {
   "cell_type": "code",
   "execution_count": 5,
   "id": "b4cf7afd",
   "metadata": {
    "execution": {
     "iopub.execute_input": "2024-08-07T09:04:39.142886Z",
     "iopub.status.busy": "2024-08-07T09:04:39.142537Z",
     "iopub.status.idle": "2024-08-07T09:04:47.541380Z",
     "shell.execute_reply": "2024-08-07T09:04:47.540588Z"
    },
    "papermill": {
     "duration": 8.409494,
     "end_time": "2024-08-07T09:04:47.544023",
     "exception": false,
     "start_time": "2024-08-07T09:04:39.134529",
     "status": "completed"
    },
    "tags": []
   },
   "outputs": [
    {
     "name": "stderr",
     "output_type": "stream",
     "text": [
      "/tmp/ipykernel_25/41566102.py:1: DtypeWarning: Columns (51,52) have mixed types. Specify dtype option on import or set low_memory=False.\n",
      "  train_metadata = pd.read_csv('/kaggle/input/isic-2024-challenge/train-metadata.csv')\n"
     ]
    }
   ],
   "source": [
    "train_metadata = pd.read_csv('/kaggle/input/isic-2024-challenge/train-metadata.csv')\n",
    "train_metadata = train_metadata[['isic_id', 'target']]\n",
    "train_metadata['year'] = 24"
   ]
  },
  {
   "cell_type": "code",
   "execution_count": 6,
   "id": "69902b13",
   "metadata": {
    "execution": {
     "iopub.execute_input": "2024-08-07T09:04:47.560809Z",
     "iopub.status.busy": "2024-08-07T09:04:47.560406Z",
     "iopub.status.idle": "2024-08-07T09:04:47.582104Z",
     "shell.execute_reply": "2024-08-07T09:04:47.581217Z"
    },
    "papermill": {
     "duration": 0.032918,
     "end_time": "2024-08-07T09:04:47.584699",
     "exception": false,
     "start_time": "2024-08-07T09:04:47.551781",
     "status": "completed"
    },
    "tags": []
   },
   "outputs": [],
   "source": [
    "train_metadata = pd.concat([train_metadata, meta])\n",
    "train_metadata = train_metadata.reset_index(drop=True)"
   ]
  },
  {
   "cell_type": "code",
   "execution_count": 7,
   "id": "d4ece4b9",
   "metadata": {
    "execution": {
     "iopub.execute_input": "2024-08-07T09:04:47.600968Z",
     "iopub.status.busy": "2024-08-07T09:04:47.600614Z",
     "iopub.status.idle": "2024-08-07T09:04:47.609568Z",
     "shell.execute_reply": "2024-08-07T09:04:47.608508Z"
    },
    "papermill": {
     "duration": 0.019905,
     "end_time": "2024-08-07T09:04:47.612057",
     "exception": false,
     "start_time": "2024-08-07T09:04:47.592152",
     "status": "completed"
    },
    "tags": []
   },
   "outputs": [],
   "source": [
    "# Image dataset for training\n",
    "\n",
    "class ImageDataset(Dataset):\n",
    "    def __init__(self, dataframe, augmentation=None):\n",
    "        self.dataframe = dataframe\n",
    "        self.targets = dataframe['target'].values\n",
    "        self.augmentation = augmentation\n",
    "        \n",
    "    def __len__(self):\n",
    "        return len(self.targets)\n",
    "    \n",
    "    def __getitem__(self, idx):\n",
    "        \n",
    "        row = self.dataframe.iloc[idx]\n",
    "        \n",
    "        if row['year'] == 24:\n",
    "            with Image.open(f'/kaggle/input/isic-2024-challenge/train-image/image/{row[\"isic_id\"]}.jpg') as img:\n",
    "                image = np.array(img)\n",
    "        else:\n",
    "            with Image.open(f'/kaggle/input/isic-20{row[\"year\"]}-jpg-224x224-resized/train-image/image/{row[\"isic_id\"]}.jpg') as img:\n",
    "                image = np.array(img)\n",
    "\n",
    "        target = self.targets[idx]\n",
    "            \n",
    "        if self.augmentation:\n",
    "            image = self.augmentation(image=image)['image']\n",
    "            \n",
    "        return image, target"
   ]
  },
  {
   "cell_type": "code",
   "execution_count": 8,
   "id": "1e012bdf",
   "metadata": {
    "execution": {
     "iopub.execute_input": "2024-08-07T09:04:47.629046Z",
     "iopub.status.busy": "2024-08-07T09:04:47.627986Z",
     "iopub.status.idle": "2024-08-07T09:04:47.634894Z",
     "shell.execute_reply": "2024-08-07T09:04:47.634139Z"
    },
    "papermill": {
     "duration": 0.017676,
     "end_time": "2024-08-07T09:04:47.637198",
     "exception": false,
     "start_time": "2024-08-07T09:04:47.619522",
     "status": "completed"
    },
    "tags": []
   },
   "outputs": [],
   "source": [
    "class customModel(torch.nn.Module):\n",
    "    def __init__(self, pretrainedModel):\n",
    "        super(customModel, self).__init__()\n",
    "        self.pretrainedModel = pretrainedModel\n",
    "        \n",
    "        self.classifier = torch.nn.Sequential(\n",
    "            torch.nn.Dropout(p=0.25),\n",
    "            torch.nn.Linear(1000, 1),\n",
    "            torch.nn.Sigmoid()\n",
    "        )\n",
    "        \n",
    "    def forward(self, x):\n",
    "        x = self.pretrainedModel(x)\n",
    "        x = self.classifier(x)\n",
    "        return x"
   ]
  },
  {
   "cell_type": "code",
   "execution_count": 9,
   "id": "7f0d058d",
   "metadata": {
    "execution": {
     "iopub.execute_input": "2024-08-07T09:04:47.654131Z",
     "iopub.status.busy": "2024-08-07T09:04:47.653766Z",
     "iopub.status.idle": "2024-08-07T09:04:47.720191Z",
     "shell.execute_reply": "2024-08-07T09:04:47.719198Z"
    },
    "papermill": {
     "duration": 0.077911,
     "end_time": "2024-08-07T09:04:47.722278",
     "exception": false,
     "start_time": "2024-08-07T09:04:47.644367",
     "status": "completed"
    },
    "tags": []
   },
   "outputs": [
    {
     "name": "stdout",
     "output_type": "stream",
     "text": [
      "GPU is available\n"
     ]
    }
   ],
   "source": [
    "if torch.cuda.is_available():\n",
    "    print(\"GPU is available\")\n",
    "    device = torch.device(\"cuda\")\n",
    "else:\n",
    "    print(\"GPU is not available, using CPU instead\")\n",
    "    device = torch.device(\"cpu\")"
   ]
  },
  {
   "cell_type": "code",
   "execution_count": 10,
   "id": "7581f27c",
   "metadata": {
    "execution": {
     "iopub.execute_input": "2024-08-07T09:04:47.738215Z",
     "iopub.status.busy": "2024-08-07T09:04:47.737838Z",
     "iopub.status.idle": "2024-08-07T09:04:47.742757Z",
     "shell.execute_reply": "2024-08-07T09:04:47.741807Z"
    },
    "papermill": {
     "duration": 0.015478,
     "end_time": "2024-08-07T09:04:47.744937",
     "exception": false,
     "start_time": "2024-08-07T09:04:47.729459",
     "status": "completed"
    },
    "tags": []
   },
   "outputs": [],
   "source": [
    "EPOCHS = 10\n",
    "batchSize = 128\n",
    "learningRate = 0.0005\n",
    "imgSize = 224\n",
    "imgsPerSample = 150_000"
   ]
  },
  {
   "cell_type": "code",
   "execution_count": 11,
   "id": "9dd06db5",
   "metadata": {
    "execution": {
     "iopub.execute_input": "2024-08-07T09:04:47.761758Z",
     "iopub.status.busy": "2024-08-07T09:04:47.760944Z",
     "iopub.status.idle": "2024-08-07T09:04:47.779621Z",
     "shell.execute_reply": "2024-08-07T09:04:47.778646Z"
    },
    "papermill": {
     "duration": 0.029289,
     "end_time": "2024-08-07T09:04:47.781989",
     "exception": false,
     "start_time": "2024-08-07T09:04:47.752700",
     "status": "completed"
    },
    "tags": []
   },
   "outputs": [
    {
     "name": "stderr",
     "output_type": "stream",
     "text": [
      "/opt/conda/lib/python3.10/site-packages/albumentations/augmentations/blur/transforms.py:180: UserWarning: blur_limit and sigma_limit minimum value can not be both equal to 0. blur_limit minimum value changed to 3.\n",
      "  warnings.warn(\n"
     ]
    }
   ],
   "source": [
    "# From 2020 winners\n",
    "transforms_train_w = A.Compose([\n",
    "    A.Transpose(p=0.5),\n",
    "    A.VerticalFlip(p=0.5),\n",
    "    A.HorizontalFlip(p=0.5),\n",
    "    A.RandomBrightnessContrast(p=0.2),\n",
    "    A.OneOf([\n",
    "        A.MotionBlur(blur_limit=5),\n",
    "        A.MedianBlur(blur_limit=5),\n",
    "        A.GaussianBlur(blur_limit=5),\n",
    "        A.GaussNoise(var_limit=(5.0, 30.0)),\n",
    "    ], p=0.7),\n",
    "\n",
    "    A.OneOf([\n",
    "        A.OpticalDistortion(distort_limit=1.0),\n",
    "        A.GridDistortion(num_steps=5, distort_limit=1.),\n",
    "        A.ElasticTransform(alpha=3),\n",
    "    ], p=0.7),\n",
    "\n",
    "    A.CLAHE(clip_limit=4.0, p=0.7),\n",
    "    A.HueSaturationValue(hue_shift_limit=10, sat_shift_limit=20, val_shift_limit=10, p=0.5),\n",
    "    A.ShiftScaleRotate(shift_limit=0.1, scale_limit=0.1, rotate_limit=15, border_mode=0, p=0.85),\n",
    "    A.Resize(imgSize, imgSize, interpolation=2),\n",
    "    A.CoarseDropout(max_height=int(imgSize * 0.375), max_width=int(imgSize * 0.375), max_holes=1, p=0.3),    \n",
    "    A.Normalize(mean=(0.485, 0.456, 0.406), std=(0.229, 0.224, 0.225)),\n",
    "    ToTensorV2()\n",
    "])\n",
    "\n",
    "transforms_train = A.Compose([\n",
    "    A.Transpose(p=0.5),\n",
    "    A.VerticalFlip(p=0.5),\n",
    "    A.HorizontalFlip(p=0.5),\n",
    "    A.RandomBrightnessContrast(p=0.2),\n",
    "    A.OneOf([\n",
    "        A.MotionBlur(blur_limit=5),\n",
    "        A.MedianBlur(blur_limit=5),\n",
    "        A.GaussianBlur(blur_limit=5),\n",
    "        A.GaussNoise(var_limit=(5.0, 30.0)),\n",
    "    ], p=0.7),\n",
    "    A.CLAHE(clip_limit=4.0, p=0.7),\n",
    "    A.HueSaturationValue(hue_shift_limit=10, sat_shift_limit=20, val_shift_limit=10, p=0.5),\n",
    "    A.Resize(imgSize, imgSize, interpolation=2),  \n",
    "    A.Normalize(mean=(0.485, 0.456, 0.406), std=(0.229, 0.224, 0.225)),\n",
    "    ToTensorV2()\n",
    "])\n",
    "\n",
    "transforms_test = A.Compose([\n",
    "    A.Resize(imgSize, imgSize, interpolation=2),\n",
    "    A.Normalize(mean=(0.485, 0.456, 0.406), std=(0.229, 0.224, 0.225)),\n",
    "    ToTensorV2()\n",
    "])\n",
    "\n",
    "train = ImageDataset(train_metadata, augmentation=transforms_train_w)"
   ]
  },
  {
   "cell_type": "code",
   "execution_count": 12,
   "id": "d6adabb2",
   "metadata": {
    "execution": {
     "iopub.execute_input": "2024-08-07T09:04:47.798142Z",
     "iopub.status.busy": "2024-08-07T09:04:47.797785Z",
     "iopub.status.idle": "2024-08-07T09:04:47.924722Z",
     "shell.execute_reply": "2024-08-07T09:04:47.923633Z"
    },
    "papermill": {
     "duration": 0.137423,
     "end_time": "2024-08-07T09:04:47.927142",
     "exception": false,
     "start_time": "2024-08-07T09:04:47.789719",
     "status": "completed"
    },
    "tags": []
   },
   "outputs": [
    {
     "data": {
      "text/plain": [
       "{0.0: 2.4958444190422947e-06, 1.0: 0.00016231131309852296}"
      ]
     },
     "execution_count": 12,
     "metadata": {},
     "output_type": "execute_result"
    }
   ],
   "source": [
    "class_counts = train_metadata['target'].value_counts().to_dict()\n",
    "class_weights = {cls: 1.0 / count for cls, count in class_counts.items()}\n",
    "sample_weights = [class_weights[target] for target in train_metadata['target']]\n",
    "\n",
    "class_weights"
   ]
  },
  {
   "cell_type": "code",
   "execution_count": 13,
   "id": "2dd2df7c",
   "metadata": {
    "execution": {
     "iopub.execute_input": "2024-08-07T09:04:47.944520Z",
     "iopub.status.busy": "2024-08-07T09:04:47.943833Z",
     "iopub.status.idle": "2024-08-07T09:04:47.950303Z",
     "shell.execute_reply": "2024-08-07T09:04:47.949376Z"
    },
    "papermill": {
     "duration": 0.017325,
     "end_time": "2024-08-07T09:04:47.952527",
     "exception": false,
     "start_time": "2024-08-07T09:04:47.935202",
     "status": "completed"
    },
    "tags": []
   },
   "outputs": [
    {
     "data": {
      "text/plain": [
       "{0.0: 400666, 1.0: 6161}"
      ]
     },
     "execution_count": 13,
     "metadata": {},
     "output_type": "execute_result"
    }
   ],
   "source": [
    "class_counts"
   ]
  },
  {
   "cell_type": "code",
   "execution_count": 14,
   "id": "3dff76ba",
   "metadata": {
    "execution": {
     "iopub.execute_input": "2024-08-07T09:04:47.970841Z",
     "iopub.status.busy": "2024-08-07T09:04:47.969871Z",
     "iopub.status.idle": "2024-08-07T09:04:48.889459Z",
     "shell.execute_reply": "2024-08-07T09:04:48.888592Z"
    },
    "papermill": {
     "duration": 0.931526,
     "end_time": "2024-08-07T09:04:48.891927",
     "exception": false,
     "start_time": "2024-08-07T09:04:47.960401",
     "status": "completed"
    },
    "tags": []
   },
   "outputs": [
    {
     "name": "stderr",
     "output_type": "stream",
     "text": [
      "Downloading: \"https://download.pytorch.org/models/efficientnet_b0_rwightman-7f5810bc.pth\" to /root/.cache/torch/hub/checkpoints/efficientnet_b0_rwightman-7f5810bc.pth\n",
      "100%|██████████| 20.5M/20.5M [00:00<00:00, 85.6MB/s]\n"
     ]
    }
   ],
   "source": [
    "sampler = WeightedRandomSampler(weights=sample_weights, num_samples=imgsPerSample, replacement=True)\n",
    "\n",
    "trainDataloader = DataLoader(train, batch_size=batchSize, sampler=sampler)\n",
    "\n",
    "pretrainedModel = efficientnet_b0(weights=EfficientNet_B0_Weights.DEFAULT)\n",
    "model = customModel(pretrainedModel)\n",
    "model = model.to(device)\n",
    "\n",
    "criterion = torch.nn.BCELoss()\n",
    "optimizer = torch.optim.Adam(model.parameters(), lr=learningRate)"
   ]
  },
  {
   "cell_type": "code",
   "execution_count": 15,
   "id": "9cb2603e",
   "metadata": {
    "execution": {
     "iopub.execute_input": "2024-08-07T09:04:48.909731Z",
     "iopub.status.busy": "2024-08-07T09:04:48.909415Z",
     "iopub.status.idle": "2024-08-07T09:04:50.343433Z",
     "shell.execute_reply": "2024-08-07T09:04:50.342084Z"
    },
    "papermill": {
     "duration": 1.446169,
     "end_time": "2024-08-07T09:04:50.346674",
     "exception": false,
     "start_time": "2024-08-07T09:04:48.900505",
     "status": "completed"
    },
    "tags": []
   },
   "outputs": [
    {
     "name": "stderr",
     "output_type": "stream",
     "text": [
      "\u001b[34m\u001b[1mwandb\u001b[0m: W&B API key is configured. Use \u001b[1m`wandb login --relogin`\u001b[0m to force relogin\n",
      "\u001b[34m\u001b[1mwandb\u001b[0m: \u001b[33mWARNING\u001b[0m If you're specifying your api key in code, ensure this code is not shared publicly.\n",
      "\u001b[34m\u001b[1mwandb\u001b[0m: \u001b[33mWARNING\u001b[0m Consider setting the WANDB_API_KEY environment variable, or running `wandb login` from the command line.\n",
      "\u001b[34m\u001b[1mwandb\u001b[0m: Appending key for api.wandb.ai to your netrc file: /root/.netrc\n"
     ]
    },
    {
     "data": {
      "text/plain": [
       "True"
      ]
     },
     "execution_count": 15,
     "metadata": {},
     "output_type": "execute_result"
    }
   ],
   "source": [
    "from kaggle_secrets import UserSecretsClient\n",
    "user_secrets = UserSecretsClient()\n",
    "wandb_key = user_secrets.get_secret(\"wandb\")\n",
    "wandb.login(key=wandb_key)"
   ]
  },
  {
   "cell_type": "code",
   "execution_count": 16,
   "id": "662b3670",
   "metadata": {
    "execution": {
     "iopub.execute_input": "2024-08-07T09:04:50.371641Z",
     "iopub.status.busy": "2024-08-07T09:04:50.371256Z",
     "iopub.status.idle": "2024-08-07T09:05:06.967973Z",
     "shell.execute_reply": "2024-08-07T09:05:06.967083Z"
    },
    "papermill": {
     "duration": 16.612077,
     "end_time": "2024-08-07T09:05:06.970724",
     "exception": false,
     "start_time": "2024-08-07T09:04:50.358647",
     "status": "completed"
    },
    "tags": []
   },
   "outputs": [
    {
     "name": "stderr",
     "output_type": "stream",
     "text": [
      "\u001b[34m\u001b[1mwandb\u001b[0m: Currently logged in as: \u001b[33moskarkuuse\u001b[0m. Use \u001b[1m`wandb login --relogin`\u001b[0m to force relogin\n",
      "\u001b[34m\u001b[1mwandb\u001b[0m: wandb version 0.17.5 is available!  To upgrade, please run:\n",
      "\u001b[34m\u001b[1mwandb\u001b[0m:  $ pip install wandb --upgrade\n",
      "\u001b[34m\u001b[1mwandb\u001b[0m: Tracking run with wandb version 0.17.0\n",
      "\u001b[34m\u001b[1mwandb\u001b[0m: Run data is saved locally in \u001b[35m\u001b[1m/kaggle/working/wandb/run-20240807_090450-ohmzhce1\u001b[0m\n",
      "\u001b[34m\u001b[1mwandb\u001b[0m: Run \u001b[1m`wandb offline`\u001b[0m to turn off syncing.\n",
      "\u001b[34m\u001b[1mwandb\u001b[0m: Syncing run \u001b[33mhappy-salad-25\u001b[0m\n",
      "\u001b[34m\u001b[1mwandb\u001b[0m: ⭐️ View project at \u001b[34m\u001b[4mhttps://wandb.ai/oskarkuuse/kaggle-skin-cancer\u001b[0m\n",
      "\u001b[34m\u001b[1mwandb\u001b[0m: 🚀 View run at \u001b[34m\u001b[4mhttps://wandb.ai/oskarkuuse/kaggle-skin-cancer/runs/ohmzhce1\u001b[0m\n"
     ]
    }
   ],
   "source": [
    "run = wandb.init(\n",
    "    project=\"kaggle-skin-cancer\",\n",
    "\n",
    "    config={\n",
    "    \"learning_rate\": learningRate,\n",
    "    \"architecture\": \"EfficientNet_b0\",\n",
    "    \"epochs\": EPOCHS,\n",
    "    }\n",
    ")"
   ]
  },
  {
   "cell_type": "code",
   "execution_count": 17,
   "id": "ce655bb4",
   "metadata": {
    "execution": {
     "iopub.execute_input": "2024-08-07T09:05:06.991540Z",
     "iopub.status.busy": "2024-08-07T09:05:06.991166Z",
     "iopub.status.idle": "2024-08-07T18:02:11.314199Z",
     "shell.execute_reply": "2024-08-07T18:02:11.313275Z"
    },
    "papermill": {
     "duration": 32224.336312,
     "end_time": "2024-08-07T18:02:11.316985",
     "exception": false,
     "start_time": "2024-08-07T09:05:06.980673",
     "status": "completed"
    },
    "tags": []
   },
   "outputs": [
    {
     "name": "stderr",
     "output_type": "stream",
     "text": [
      "\u001b[34m\u001b[1mwandb\u001b[0m:                                                                                \n",
      "\u001b[34m\u001b[1mwandb\u001b[0m: \n",
      "\u001b[34m\u001b[1mwandb\u001b[0m: Run history:\n",
      "\u001b[34m\u001b[1mwandb\u001b[0m:        AUC ▁▄▅▆▆▇▇███\n",
      "\u001b[34m\u001b[1mwandb\u001b[0m:    BCEloss █▅▄▄▄▃▂▂▁▁\n",
      "\u001b[34m\u001b[1mwandb\u001b[0m: Batch loss ▆█▇▇▃▇▅▅▄▂▆▄▅▃▄█▄▂▃▃▅▂▇▂▂▆▃▄▃▃▅▂▁▆▄▄▁▆▂▇\n",
      "\u001b[34m\u001b[1mwandb\u001b[0m:   accuracy ▁▄▄▅▅▆▇▇▇█\n",
      "\u001b[34m\u001b[1mwandb\u001b[0m:      epoch ▁▁▁▂▂▂▃▃▃▃▃▃▄▄▄▅▅▅▆▆▆▆▆▆▇▇▇███\n",
      "\u001b[34m\u001b[1mwandb\u001b[0m: \n",
      "\u001b[34m\u001b[1mwandb\u001b[0m: Run summary:\n",
      "\u001b[34m\u001b[1mwandb\u001b[0m:        AUC 0.99796\n",
      "\u001b[34m\u001b[1mwandb\u001b[0m:    BCEloss 0.0488\n",
      "\u001b[34m\u001b[1mwandb\u001b[0m: Batch loss 0.06475\n",
      "\u001b[34m\u001b[1mwandb\u001b[0m:   accuracy 0.98209\n",
      "\u001b[34m\u001b[1mwandb\u001b[0m:      epoch 10\n",
      "\u001b[34m\u001b[1mwandb\u001b[0m: \n",
      "\u001b[34m\u001b[1mwandb\u001b[0m: 🚀 View run \u001b[33mhappy-salad-25\u001b[0m at: \u001b[34m\u001b[4mhttps://wandb.ai/oskarkuuse/kaggle-skin-cancer/runs/ohmzhce1\u001b[0m\n",
      "\u001b[34m\u001b[1mwandb\u001b[0m: ⭐️ View project at: \u001b[34m\u001b[4mhttps://wandb.ai/oskarkuuse/kaggle-skin-cancer\u001b[0m\n",
      "\u001b[34m\u001b[1mwandb\u001b[0m: Synced 4 W&B file(s), 0 media file(s), 0 artifact file(s) and 0 other file(s)\n",
      "\u001b[34m\u001b[1mwandb\u001b[0m: Find logs at: \u001b[35m\u001b[1m./wandb/run-20240807_090450-ohmzhce1/logs\u001b[0m\n"
     ]
    }
   ],
   "source": [
    "best_model = None\n",
    "best_loss = np.inf\n",
    "batch_idx = 0\n",
    "metric = BinaryAUROC()\n",
    "metric = metric.to(device)\n",
    "\n",
    "for epoch in range(1, EPOCHS + 1):\n",
    "    \n",
    "    epoch_loss = 0\n",
    "    epoch_acc = 0\n",
    "    \n",
    "    model.train()\n",
    "    for images, labels in trainDataloader:\n",
    "        \n",
    "        labels = labels.float()\n",
    "        \n",
    "        images, labels = images.to(device), labels.to(device)\n",
    "        optimizer.zero_grad()\n",
    "        \n",
    "        outputs = model(images).squeeze(dim=1)\n",
    "        loss = criterion(outputs, labels)\n",
    "        \n",
    "        loss.backward()\n",
    "        optimizer.step()\n",
    "        \n",
    "        loss_val = loss.item()\n",
    "        \n",
    "        epoch_loss += loss_val\n",
    "        epoch_acc += sum((outputs.detach().cpu() >= 0.5) == labels.cpu()).item() / batchSize\n",
    "        \n",
    "        metric.update(outputs, labels)\n",
    "        \n",
    "        wandb.log({\"Batch loss\": loss_val})\n",
    "        \n",
    "        batch_idx += 1\n",
    "    \n",
    "    wandb.log({\"epoch\": epoch, \"BCEloss\": epoch_loss / len(trainDataloader)})\n",
    "    wandb.log({\"epoch\": epoch, \"accuracy\": epoch_acc / len(trainDataloader)})\n",
    "    \n",
    "    wandb.log({\"epoch\": epoch, \"AUC\": metric.compute().item()})\n",
    "    metric.reset()\n",
    "    \n",
    "#     if epoch_loss / len(trainDataloader) < best_loss:\n",
    "#         best_loss = epoch_loss / len(trainDataloader)\n",
    "#         best_model = copy.deepcopy(model.state_dict())\n",
    "\n",
    "    torch.save(model.state_dict(), f'model_params_epoch_{epoch}.pt')\n",
    "    \n",
    "run.finish()"
   ]
  },
  {
   "cell_type": "code",
   "execution_count": 18,
   "id": "262ea483",
   "metadata": {
    "execution": {
     "iopub.execute_input": "2024-08-07T18:02:11.340288Z",
     "iopub.status.busy": "2024-08-07T18:02:11.339882Z",
     "iopub.status.idle": "2024-08-07T18:02:11.344488Z",
     "shell.execute_reply": "2024-08-07T18:02:11.343529Z"
    },
    "papermill": {
     "duration": 0.018946,
     "end_time": "2024-08-07T18:02:11.346716",
     "exception": false,
     "start_time": "2024-08-07T18:02:11.327770",
     "status": "completed"
    },
    "tags": []
   },
   "outputs": [],
   "source": [
    "# if best_model != None:\n",
    "#     torch.save(best_model, 'model_best_params.pt')"
   ]
  },
  {
   "cell_type": "code",
   "execution_count": 19,
   "id": "88c33733",
   "metadata": {
    "execution": {
     "iopub.execute_input": "2024-08-07T18:02:11.369567Z",
     "iopub.status.busy": "2024-08-07T18:02:11.369155Z",
     "iopub.status.idle": "2024-08-07T18:02:11.373480Z",
     "shell.execute_reply": "2024-08-07T18:02:11.372571Z"
    },
    "papermill": {
     "duration": 0.018621,
     "end_time": "2024-08-07T18:02:11.375800",
     "exception": false,
     "start_time": "2024-08-07T18:02:11.357179",
     "status": "completed"
    },
    "tags": []
   },
   "outputs": [],
   "source": [
    "# torch.save(model.state_dict(), 'model_last_params.pt')"
   ]
  }
 ],
 "metadata": {
  "kaggle": {
   "accelerator": "gpu",
   "dataSources": [
    {
     "databundleVersionId": 9094797,
     "sourceId": 63056,
     "sourceType": "competition"
    },
    {
     "datasetId": 5295517,
     "sourceId": 8805063,
     "sourceType": "datasetVersion"
    },
    {
     "datasetId": 5295538,
     "sourceId": 8805089,
     "sourceType": "datasetVersion"
    },
    {
     "datasetId": 5295507,
     "sourceId": 8805188,
     "sourceType": "datasetVersion"
    }
   ],
   "dockerImageVersionId": 30733,
   "isGpuEnabled": true,
   "isInternetEnabled": true,
   "language": "python",
   "sourceType": "notebook"
  },
  "kernelspec": {
   "display_name": "Python 3",
   "language": "python",
   "name": "python3"
  },
  "language_info": {
   "codemirror_mode": {
    "name": "ipython",
    "version": 3
   },
   "file_extension": ".py",
   "mimetype": "text/x-python",
   "name": "python",
   "nbconvert_exporter": "python",
   "pygments_lexer": "ipython3",
   "version": "3.10.13"
  },
  "papermill": {
   "default_parameters": {},
   "duration": 32299.953657,
   "end_time": "2024-08-07T18:02:14.179118",
   "environment_variables": {},
   "exception": null,
   "input_path": "__notebook__.ipynb",
   "output_path": "__notebook__.ipynb",
   "parameters": {},
   "start_time": "2024-08-07T09:03:54.225461",
   "version": "2.5.0"
  }
 },
 "nbformat": 4,
 "nbformat_minor": 5
}
