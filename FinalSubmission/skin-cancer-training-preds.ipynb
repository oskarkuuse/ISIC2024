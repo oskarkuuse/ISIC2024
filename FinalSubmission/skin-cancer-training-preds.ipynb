{
 "cells": [
  {
   "cell_type": "code",
   "execution_count": 1,
   "id": "f60385dc",
   "metadata": {
    "_cell_guid": "b1076dfc-b9ad-4769-8c92-a6c4dae69d19",
    "_uuid": "8f2839f25d086af736a60e9eeb907d3b93b6e0e5",
    "execution": {
     "iopub.execute_input": "2024-08-31T20:42:15.833466Z",
     "iopub.status.busy": "2024-08-31T20:42:15.833158Z",
     "iopub.status.idle": "2024-08-31T20:42:20.958953Z",
     "shell.execute_reply": "2024-08-31T20:42:20.958159Z"
    },
    "papermill": {
     "duration": 5.132221,
     "end_time": "2024-08-31T20:42:20.961319",
     "exception": false,
     "start_time": "2024-08-31T20:42:15.829098",
     "status": "completed"
    },
    "tags": []
   },
   "outputs": [],
   "source": [
    "import numpy as np\n",
    "import pandas as pd\n",
    "import pandas.api.types\n",
    "import matplotlib.pyplot as plt\n",
    "from sklearn.preprocessing import OrdinalEncoder\n",
    "from sklearn.metrics import roc_curve, auc, roc_auc_score\n",
    "from sklearn.model_selection import GroupKFold, StratifiedGroupKFold\n",
    "\n",
    "import lightgbm as lgb"
   ]
  },
  {
   "cell_type": "code",
   "execution_count": 2,
   "id": "86fc8639",
   "metadata": {
    "execution": {
     "iopub.execute_input": "2024-08-31T20:42:20.969422Z",
     "iopub.status.busy": "2024-08-31T20:42:20.968285Z",
     "iopub.status.idle": "2024-08-31T20:42:28.351503Z",
     "shell.execute_reply": "2024-08-31T20:42:28.350667Z"
    },
    "papermill": {
     "duration": 7.389098,
     "end_time": "2024-08-31T20:42:28.353706",
     "exception": false,
     "start_time": "2024-08-31T20:42:20.964608",
     "status": "completed"
    },
    "tags": []
   },
   "outputs": [],
   "source": [
    "import h5py\n",
    "from io import BytesIO\n",
    "from PIL import Image\n",
    "from matplotlib import pyplot as plt\n",
    "import wandb\n",
    "import copy\n",
    "import csv\n",
    "\n",
    "import albumentations as A\n",
    "from albumentations.pytorch import ToTensorV2\n",
    "\n",
    "import torch\n",
    "from torch.utils.data import Dataset, DataLoader\n",
    "import torchvision\n",
    "from torchvision.transforms import v2\n",
    "\n",
    "from torchvision.models import resnet50, ResNet50_Weights, efficientnet_b4, EfficientNet_B4_Weights, efficientnet_b0, EfficientNet_B0_Weights\n"
   ]
  },
  {
   "cell_type": "code",
   "execution_count": 3,
   "id": "abcbfe97",
   "metadata": {
    "execution": {
     "iopub.execute_input": "2024-08-31T20:42:28.360870Z",
     "iopub.status.busy": "2024-08-31T20:42:28.360237Z",
     "iopub.status.idle": "2024-08-31T20:42:28.369942Z",
     "shell.execute_reply": "2024-08-31T20:42:28.369079Z"
    },
    "papermill": {
     "duration": 0.015213,
     "end_time": "2024-08-31T20:42:28.371842",
     "exception": false,
     "start_time": "2024-08-31T20:42:28.356629",
     "status": "completed"
    },
    "tags": []
   },
   "outputs": [],
   "source": [
    "class TestDataset(Dataset):\n",
    "    def __init__(self, dataframe, hdfPath, augmentation=None):\n",
    "        self.dataframe = dataframe\n",
    "        self.hdf = h5py.File(hdfPath, mode=\"r\")\n",
    "        self.ids = dataframe['isic_id']\n",
    "        self.augmentation = augmentation\n",
    "        \n",
    "    def __len__(self):\n",
    "        return len(self.ids)\n",
    "    \n",
    "    def __getitem__(self, idx):\n",
    "        itemId = self.ids[idx]\n",
    "        image = Image.open(BytesIO(self.hdf[itemId][()]))\n",
    "        image = np.array(image)\n",
    "            \n",
    "        if self.augmentation:\n",
    "            image = self.augmentation(image=image)['image']\n",
    "            \n",
    "        return image, itemId\n",
    "    \n",
    "class customModel(torch.nn.Module):\n",
    "    def __init__(self, pretrainedModel):\n",
    "        super(customModel, self).__init__()\n",
    "        self.pretrainedModel = pretrainedModel\n",
    "        \n",
    "        self.classifier = torch.nn.Sequential(\n",
    "            torch.nn.Dropout(p=0.25),\n",
    "            torch.nn.Linear(1000, 1),\n",
    "            torch.nn.Sigmoid()\n",
    "        )\n",
    "        \n",
    "    def forward(self, x):\n",
    "        x = self.pretrainedModel(x)\n",
    "        x = self.classifier(x)\n",
    "        return x"
   ]
  },
  {
   "cell_type": "code",
   "execution_count": 4,
   "id": "aa4c5d6c",
   "metadata": {
    "execution": {
     "iopub.execute_input": "2024-08-31T20:42:28.378396Z",
     "iopub.status.busy": "2024-08-31T20:42:28.378091Z",
     "iopub.status.idle": "2024-08-31T20:42:35.489962Z",
     "shell.execute_reply": "2024-08-31T20:42:35.489098Z"
    },
    "papermill": {
     "duration": 7.117672,
     "end_time": "2024-08-31T20:42:35.492201",
     "exception": false,
     "start_time": "2024-08-31T20:42:28.374529",
     "status": "completed"
    },
    "tags": []
   },
   "outputs": [
    {
     "name": "stderr",
     "output_type": "stream",
     "text": [
      "/tmp/ipykernel_23/725557698.py:1: DtypeWarning: Columns (51,52) have mixed types. Specify dtype option on import or set low_memory=False.\n",
      "  train_metadata = pd.read_csv('/kaggle/input/isic-2024-challenge/train-metadata.csv')\n"
     ]
    }
   ],
   "source": [
    "train_metadata = pd.read_csv('/kaggle/input/isic-2024-challenge/train-metadata.csv')\n",
    "test_metadata = pd.read_csv('/kaggle/input/isic-2024-challenge/test-metadata.csv')\n",
    "\n",
    "transforms_test = A.Compose([\n",
    "    A.Resize(224, 224, interpolation=2),\n",
    "    A.Normalize(mean=(0.485, 0.456, 0.406), std=(0.229, 0.224, 0.225)),\n",
    "    ToTensorV2()\n",
    "])\n",
    "\n",
    "train = TestDataset(train_metadata, '/kaggle/input/isic-2024-challenge/train-image.hdf5', augmentation=transforms_test)\n",
    "test = TestDataset(test_metadata, '/kaggle/input/isic-2024-challenge/test-image.hdf5', augmentation=transforms_test)\n",
    "\n",
    "trainLoader = DataLoader(train, batch_size=32, shuffle=False)\n",
    "testLoader = DataLoader(test, batch_size=32, shuffle=False)\n"
   ]
  },
  {
   "cell_type": "code",
   "execution_count": 5,
   "id": "3540a791",
   "metadata": {
    "execution": {
     "iopub.execute_input": "2024-08-31T20:42:35.500163Z",
     "iopub.status.busy": "2024-08-31T20:42:35.499464Z",
     "iopub.status.idle": "2024-08-31T20:42:35.570940Z",
     "shell.execute_reply": "2024-08-31T20:42:35.570021Z"
    },
    "papermill": {
     "duration": 0.078325,
     "end_time": "2024-08-31T20:42:35.573750",
     "exception": false,
     "start_time": "2024-08-31T20:42:35.495425",
     "status": "completed"
    },
    "tags": []
   },
   "outputs": [
    {
     "name": "stdout",
     "output_type": "stream",
     "text": [
      "GPU is available\n"
     ]
    }
   ],
   "source": [
    "if torch.cuda.is_available():\n",
    "    print(\"GPU is available\")\n",
    "    device = torch.device(\"cuda\")\n",
    "else:\n",
    "    print(\"GPU is not available, using CPU instead\")\n",
    "    device = torch.device(\"cpu\")\n"
   ]
  },
  {
   "cell_type": "code",
   "execution_count": 6,
   "id": "814efbac",
   "metadata": {
    "execution": {
     "iopub.execute_input": "2024-08-31T20:42:35.581524Z",
     "iopub.status.busy": "2024-08-31T20:42:35.580807Z",
     "iopub.status.idle": "2024-08-31T20:42:36.154303Z",
     "shell.execute_reply": "2024-08-31T20:42:36.153504Z"
    },
    "papermill": {
     "duration": 0.57974,
     "end_time": "2024-08-31T20:42:36.156574",
     "exception": false,
     "start_time": "2024-08-31T20:42:35.576834",
     "status": "completed"
    },
    "tags": []
   },
   "outputs": [
    {
     "name": "stderr",
     "output_type": "stream",
     "text": [
      "/tmp/ipykernel_23/2343000053.py:3: FutureWarning: You are using `torch.load` with `weights_only=False` (the current default value), which uses the default pickle module implicitly. It is possible to construct malicious pickle data which will execute arbitrary code during unpickling (See https://github.com/pytorch/pytorch/blob/main/SECURITY.md#untrusted-models for more details). In a future release, the default value for `weights_only` will be flipped to `True`. This limits the functions that could be executed during unpickling. Arbitrary objects will no longer be allowed to be loaded via this mode unless they are explicitly allowlisted by the user via `torch.serialization.add_safe_globals`. We recommend you start setting `weights_only=True` for any use case where you don't have full control of the loaded file. Please open an issue on GitHub for any issues related to this experimental feature.\n",
      "  model.load_state_dict(torch.load('/kaggle/input/skin-cancer-model-training-w-additional-data/model_params_epoch_2.pt'))\n"
     ]
    }
   ],
   "source": [
    "pretrainedModel = efficientnet_b0()\n",
    "model = customModel(pretrainedModel)\n",
    "model.load_state_dict(torch.load('/kaggle/input/skin-cancer-model-training-w-additional-data/model_params_epoch_2.pt'))\n",
    "model = model.to(device)\n"
   ]
  },
  {
   "cell_type": "code",
   "execution_count": 7,
   "id": "2680b06a",
   "metadata": {
    "execution": {
     "iopub.execute_input": "2024-08-31T20:42:36.164636Z",
     "iopub.status.busy": "2024-08-31T20:42:36.164290Z",
     "iopub.status.idle": "2024-08-31T20:57:36.109877Z",
     "shell.execute_reply": "2024-08-31T20:57:36.108917Z"
    },
    "papermill": {
     "duration": 899.95239,
     "end_time": "2024-08-31T20:57:36.112496",
     "exception": false,
     "start_time": "2024-08-31T20:42:36.160106",
     "status": "completed"
    },
    "tags": []
   },
   "outputs": [],
   "source": [
    "nnTrainPreds = np.array([])\n",
    "\n",
    "model.eval()\n",
    "with torch.no_grad():\n",
    "    for images, cases in trainLoader:\n",
    "        images = images.to(device)\n",
    "        preds = model(images)\n",
    "\n",
    "        preds = preds.squeeze(dim=1).detach().cpu().numpy()\n",
    "        \n",
    "        nnTrainPreds = np.append(nnTrainPreds, preds)"
   ]
  },
  {
   "cell_type": "code",
   "execution_count": 8,
   "id": "365c0ef8",
   "metadata": {
    "execution": {
     "iopub.execute_input": "2024-08-31T20:57:36.123185Z",
     "iopub.status.busy": "2024-08-31T20:57:36.121957Z",
     "iopub.status.idle": "2024-08-31T20:57:37.271233Z",
     "shell.execute_reply": "2024-08-31T20:57:37.270186Z"
    },
    "papermill": {
     "duration": 1.156698,
     "end_time": "2024-08-31T20:57:37.273583",
     "exception": false,
     "start_time": "2024-08-31T20:57:36.116885",
     "status": "completed"
    },
    "tags": []
   },
   "outputs": [],
   "source": [
    "df = pd.DataFrame(nnTrainPreds)\n",
    "df.to_csv('preds.csv')"
   ]
  }
 ],
 "metadata": {
  "kaggle": {
   "accelerator": "gpu",
   "dataSources": [
    {
     "databundleVersionId": 9094797,
     "sourceId": 63056,
     "sourceType": "competition"
    },
    {
     "sourceId": 191506493,
     "sourceType": "kernelVersion"
    }
   ],
   "dockerImageVersionId": 30762,
   "isGpuEnabled": true,
   "isInternetEnabled": true,
   "language": "python",
   "sourceType": "notebook"
  },
  "kernelspec": {
   "display_name": "Python 3",
   "language": "python",
   "name": "python3"
  },
  "language_info": {
   "codemirror_mode": {
    "name": "ipython",
    "version": 3
   },
   "file_extension": ".py",
   "mimetype": "text/x-python",
   "name": "python",
   "nbconvert_exporter": "python",
   "pygments_lexer": "ipython3",
   "version": "3.10.14"
  },
  "papermill": {
   "default_parameters": {},
   "duration": 927.117932,
   "end_time": "2024-08-31T20:57:40.186751",
   "environment_variables": {},
   "exception": null,
   "input_path": "__notebook__.ipynb",
   "output_path": "__notebook__.ipynb",
   "parameters": {},
   "start_time": "2024-08-31T20:42:13.068819",
   "version": "2.6.0"
  }
 },
 "nbformat": 4,
 "nbformat_minor": 5
}
