{
 "cells": [
  {
   "cell_type": "code",
   "execution_count": 1,
   "id": "393c8163",
   "metadata": {
    "execution": {
     "iopub.execute_input": "2024-07-18T10:52:56.965378Z",
     "iopub.status.busy": "2024-07-18T10:52:56.965020Z",
     "iopub.status.idle": "2024-07-18T10:53:05.916105Z",
     "shell.execute_reply": "2024-07-18T10:53:05.915349Z"
    },
    "papermill": {
     "duration": 8.960154,
     "end_time": "2024-07-18T10:53:05.918485",
     "exception": false,
     "start_time": "2024-07-18T10:52:56.958331",
     "status": "completed"
    },
    "tags": []
   },
   "outputs": [],
   "source": [
    "import h5py\n",
    "from io import BytesIO\n",
    "from PIL import Image\n",
    "import numpy as np\n",
    "import pandas as pd\n",
    "from matplotlib import pyplot as plt\n",
    "import wandb\n",
    "import copy\n",
    "\n",
    "import albumentations as A\n",
    "from albumentations.pytorch import ToTensorV2\n",
    "\n",
    "import torch\n",
    "from torch.utils.data import Dataset, DataLoader, WeightedRandomSampler\n",
    "import torchvision\n",
    "from torchvision.transforms import v2\n",
    "\n",
    "from torchvision.models import resnet50, ResNet50_Weights, efficientnet_b3, EfficientNet_B3_Weights"
   ]
  },
  {
   "cell_type": "code",
   "execution_count": 2,
   "id": "f22974df",
   "metadata": {
    "execution": {
     "iopub.execute_input": "2024-07-18T10:53:05.929945Z",
     "iopub.status.busy": "2024-07-18T10:53:05.929466Z",
     "iopub.status.idle": "2024-07-18T10:53:20.758212Z",
     "shell.execute_reply": "2024-07-18T10:53:20.757364Z"
    },
    "papermill": {
     "duration": 14.836872,
     "end_time": "2024-07-18T10:53:20.760610",
     "exception": false,
     "start_time": "2024-07-18T10:53:05.923738",
     "status": "completed"
    },
    "tags": []
   },
   "outputs": [
    {
     "name": "stdout",
     "output_type": "stream",
     "text": [
      "Collecting torcheval\r\n",
      "  Downloading torcheval-0.0.7-py3-none-any.whl.metadata (8.6 kB)\r\n",
      "Requirement already satisfied: typing-extensions in /opt/conda/lib/python3.10/site-packages (from torcheval) (4.9.0)\r\n",
      "Downloading torcheval-0.0.7-py3-none-any.whl (179 kB)\r\n",
      "\u001b[2K   \u001b[90m━━━━━━━━━━━━━━━━━━━━━━━━━━━━━━━━━━━━━━━━\u001b[0m \u001b[32m179.2/179.2 kB\u001b[0m \u001b[31m3.9 MB/s\u001b[0m eta \u001b[36m0:00:00\u001b[0m\r\n",
      "\u001b[?25hInstalling collected packages: torcheval\r\n",
      "Successfully installed torcheval-0.0.7\r\n"
     ]
    }
   ],
   "source": [
    "!pip install torcheval\n",
    "from torcheval.metrics import BinaryAUROC"
   ]
  },
  {
   "cell_type": "code",
   "execution_count": 3,
   "id": "a265314e",
   "metadata": {
    "execution": {
     "iopub.execute_input": "2024-07-18T10:53:20.773100Z",
     "iopub.status.busy": "2024-07-18T10:53:20.772505Z",
     "iopub.status.idle": "2024-07-18T10:53:28.539047Z",
     "shell.execute_reply": "2024-07-18T10:53:28.538237Z"
    },
    "papermill": {
     "duration": 7.775367,
     "end_time": "2024-07-18T10:53:28.541424",
     "exception": false,
     "start_time": "2024-07-18T10:53:20.766057",
     "status": "completed"
    },
    "tags": []
   },
   "outputs": [
    {
     "name": "stderr",
     "output_type": "stream",
     "text": [
      "/tmp/ipykernel_24/127800222.py:1: DtypeWarning: Columns (51,52) have mixed types. Specify dtype option on import or set low_memory=False.\n",
      "  train_metadata = pd.read_csv('/kaggle/input/isic-2024-challenge/train-metadata.csv')\n"
     ]
    }
   ],
   "source": [
    "train_metadata = pd.read_csv('/kaggle/input/isic-2024-challenge/train-metadata.csv')"
   ]
  },
  {
   "cell_type": "code",
   "execution_count": 4,
   "id": "5e77ef7b",
   "metadata": {
    "execution": {
     "iopub.execute_input": "2024-07-18T10:53:28.553841Z",
     "iopub.status.busy": "2024-07-18T10:53:28.553431Z",
     "iopub.status.idle": "2024-07-18T10:53:28.561159Z",
     "shell.execute_reply": "2024-07-18T10:53:28.560287Z"
    },
    "papermill": {
     "duration": 0.016027,
     "end_time": "2024-07-18T10:53:28.563140",
     "exception": false,
     "start_time": "2024-07-18T10:53:28.547113",
     "status": "completed"
    },
    "tags": []
   },
   "outputs": [],
   "source": [
    "# Image dataset for training\n",
    "\n",
    "class ImageDataset(Dataset):\n",
    "    def __init__(self, dataframe, hdfPath, augmentation=None):\n",
    "        self.dataframe = dataframe\n",
    "        self.hdf = h5py.File(hdfPath, mode=\"r\")\n",
    "        self.ids = dataframe['isic_id']\n",
    "        self.targets = dataframe['target'].values\n",
    "        self.augmentation = augmentation\n",
    "        \n",
    "    def __len__(self):\n",
    "        return len(self.ids)\n",
    "    \n",
    "    def __getitem__(self, idx):\n",
    "        itemId = self.ids[idx]\n",
    "        image = Image.open(BytesIO(self.hdf[itemId][()]))\n",
    "        image = np.array(image)\n",
    "        target = self.targets[idx]\n",
    "            \n",
    "        if self.augmentation:\n",
    "            image = self.augmentation(image=image)['image']\n",
    "            \n",
    "        return image, target"
   ]
  },
  {
   "cell_type": "code",
   "execution_count": 5,
   "id": "666baa4f",
   "metadata": {
    "execution": {
     "iopub.execute_input": "2024-07-18T10:53:28.575027Z",
     "iopub.status.busy": "2024-07-18T10:53:28.574743Z",
     "iopub.status.idle": "2024-07-18T10:53:28.580779Z",
     "shell.execute_reply": "2024-07-18T10:53:28.579899Z"
    },
    "papermill": {
     "duration": 0.014272,
     "end_time": "2024-07-18T10:53:28.582773",
     "exception": false,
     "start_time": "2024-07-18T10:53:28.568501",
     "status": "completed"
    },
    "tags": []
   },
   "outputs": [],
   "source": [
    "class customModel(torch.nn.Module):\n",
    "    def __init__(self, pretrainedModel):\n",
    "        super(customModel, self).__init__()\n",
    "        self.pretrainedModel = pretrainedModel\n",
    "        \n",
    "        self.classifier = torch.nn.Sequential(\n",
    "            torch.nn.Dropout(p=0.25),\n",
    "            torch.nn.Linear(1000, 1),\n",
    "            torch.nn.Sigmoid()\n",
    "        )\n",
    "        \n",
    "    def forward(self, x):\n",
    "        x = self.pretrainedModel(x)\n",
    "        x = self.classifier(x)\n",
    "        return x"
   ]
  },
  {
   "cell_type": "code",
   "execution_count": 6,
   "id": "01bd776e",
   "metadata": {
    "execution": {
     "iopub.execute_input": "2024-07-18T10:53:28.594795Z",
     "iopub.status.busy": "2024-07-18T10:53:28.594261Z",
     "iopub.status.idle": "2024-07-18T10:53:28.659876Z",
     "shell.execute_reply": "2024-07-18T10:53:28.659010Z"
    },
    "papermill": {
     "duration": 0.073922,
     "end_time": "2024-07-18T10:53:28.661980",
     "exception": false,
     "start_time": "2024-07-18T10:53:28.588058",
     "status": "completed"
    },
    "tags": []
   },
   "outputs": [
    {
     "name": "stdout",
     "output_type": "stream",
     "text": [
      "GPU is available\n"
     ]
    }
   ],
   "source": [
    "if torch.cuda.is_available():\n",
    "    print(\"GPU is available\")\n",
    "    device = torch.device(\"cuda\")\n",
    "else:\n",
    "    print(\"GPU is not available, using CPU instead\")\n",
    "    device = torch.device(\"cpu\")"
   ]
  },
  {
   "cell_type": "code",
   "execution_count": 7,
   "id": "66946de0",
   "metadata": {
    "execution": {
     "iopub.execute_input": "2024-07-18T10:53:28.674337Z",
     "iopub.status.busy": "2024-07-18T10:53:28.674002Z",
     "iopub.status.idle": "2024-07-18T10:53:28.678084Z",
     "shell.execute_reply": "2024-07-18T10:53:28.677300Z"
    },
    "papermill": {
     "duration": 0.012505,
     "end_time": "2024-07-18T10:53:28.680013",
     "exception": false,
     "start_time": "2024-07-18T10:53:28.667508",
     "status": "completed"
    },
    "tags": []
   },
   "outputs": [],
   "source": [
    "EPOCHS = 5\n",
    "batchSize = 32\n",
    "learningRate = 0.0005\n",
    "imgSize = 300"
   ]
  },
  {
   "cell_type": "code",
   "execution_count": 8,
   "id": "b1f57d81",
   "metadata": {
    "execution": {
     "iopub.execute_input": "2024-07-18T10:53:28.692059Z",
     "iopub.status.busy": "2024-07-18T10:53:28.691748Z",
     "iopub.status.idle": "2024-07-18T10:53:28.720067Z",
     "shell.execute_reply": "2024-07-18T10:53:28.719116Z"
    },
    "papermill": {
     "duration": 0.037049,
     "end_time": "2024-07-18T10:53:28.722405",
     "exception": false,
     "start_time": "2024-07-18T10:53:28.685356",
     "status": "completed"
    },
    "tags": []
   },
   "outputs": [
    {
     "name": "stderr",
     "output_type": "stream",
     "text": [
      "/opt/conda/lib/python3.10/site-packages/albumentations/augmentations/blur/transforms.py:180: UserWarning: blur_limit and sigma_limit minimum value can not be both equal to 0. blur_limit minimum value changed to 3.\n",
      "  warnings.warn(\n"
     ]
    }
   ],
   "source": [
    "# From 2020 winners\n",
    "transforms_train_w = A.Compose([\n",
    "    A.Transpose(p=0.5),\n",
    "    A.VerticalFlip(p=0.5),\n",
    "    A.HorizontalFlip(p=0.5),\n",
    "    A.RandomBrightnessContrast(p=0.2),\n",
    "    A.OneOf([\n",
    "        A.MotionBlur(blur_limit=5),\n",
    "        A.MedianBlur(blur_limit=5),\n",
    "        A.GaussianBlur(blur_limit=5),\n",
    "        A.GaussNoise(var_limit=(5.0, 30.0)),\n",
    "    ], p=0.7),\n",
    "\n",
    "    A.OneOf([\n",
    "        A.OpticalDistortion(distort_limit=1.0),\n",
    "        A.GridDistortion(num_steps=5, distort_limit=1.),\n",
    "        A.ElasticTransform(alpha=3),\n",
    "    ], p=0.7),\n",
    "\n",
    "    A.CLAHE(clip_limit=4.0, p=0.7),\n",
    "    A.HueSaturationValue(hue_shift_limit=10, sat_shift_limit=20, val_shift_limit=10, p=0.5),\n",
    "    A.ShiftScaleRotate(shift_limit=0.1, scale_limit=0.1, rotate_limit=15, border_mode=0, p=0.85),\n",
    "    A.Resize(imgSize, imgSize, interpolation=2),\n",
    "    A.CoarseDropout(max_height=int(imgSize * 0.375), max_width=int(imgSize * 0.375), max_holes=1, p=0.7),    \n",
    "    A.Normalize(mean=(0.485, 0.456, 0.406), std=(0.229, 0.224, 0.225)),\n",
    "    ToTensorV2()\n",
    "])\n",
    "\n",
    "transforms_train = A.Compose([\n",
    "    A.Transpose(p=0.5),\n",
    "    A.VerticalFlip(p=0.5),\n",
    "    A.HorizontalFlip(p=0.5),\n",
    "    A.RandomBrightnessContrast(p=0.2),\n",
    "    A.OneOf([\n",
    "        A.MotionBlur(blur_limit=5),\n",
    "        A.MedianBlur(blur_limit=5),\n",
    "        A.GaussianBlur(blur_limit=5),\n",
    "        A.GaussNoise(var_limit=(5.0, 30.0)),\n",
    "    ], p=0.7),\n",
    "    A.CLAHE(clip_limit=4.0, p=0.7),\n",
    "    A.HueSaturationValue(hue_shift_limit=10, sat_shift_limit=20, val_shift_limit=10, p=0.5),\n",
    "    A.Resize(imgSize, imgSize, interpolation=2),  \n",
    "    A.Normalize(mean=(0.485, 0.456, 0.406), std=(0.229, 0.224, 0.225)),\n",
    "    ToTensorV2()\n",
    "])\n",
    "\n",
    "transforms_test = A.Compose([\n",
    "    A.Resize(imgSize, imgSize, interpolation=2),\n",
    "    A.Normalize(mean=(0.485, 0.456, 0.406), std=(0.229, 0.224, 0.225)),\n",
    "    ToTensorV2()\n",
    "])\n",
    "\n",
    "train = ImageDataset(train_metadata, '/kaggle/input/isic-2024-challenge/train-image.hdf5', augmentation=transforms_train)"
   ]
  },
  {
   "cell_type": "code",
   "execution_count": 9,
   "id": "e8cfda68",
   "metadata": {
    "execution": {
     "iopub.execute_input": "2024-07-18T10:53:28.735133Z",
     "iopub.status.busy": "2024-07-18T10:53:28.734810Z",
     "iopub.status.idle": "2024-07-18T10:53:28.825941Z",
     "shell.execute_reply": "2024-07-18T10:53:28.825019Z"
    },
    "papermill": {
     "duration": 0.100073,
     "end_time": "2024-07-18T10:53:28.828196",
     "exception": false,
     "start_time": "2024-07-18T10:53:28.728123",
     "status": "completed"
    },
    "tags": []
   },
   "outputs": [
    {
     "data": {
      "text/plain": [
       "{0: 2.4958444190422947e-06, 1: 0.002544529262086514}"
      ]
     },
     "execution_count": 9,
     "metadata": {},
     "output_type": "execute_result"
    }
   ],
   "source": [
    "class_counts = train_metadata['target'].value_counts().to_dict()\n",
    "class_weights = {cls: 1.0 / count for cls, count in class_counts.items()}\n",
    "sample_weights = [class_weights[target] for target in train_metadata['target']]\n",
    "\n",
    "class_weights"
   ]
  },
  {
   "cell_type": "code",
   "execution_count": 10,
   "id": "a9248082",
   "metadata": {
    "execution": {
     "iopub.execute_input": "2024-07-18T10:53:28.841530Z",
     "iopub.status.busy": "2024-07-18T10:53:28.840724Z",
     "iopub.status.idle": "2024-07-18T10:53:30.166916Z",
     "shell.execute_reply": "2024-07-18T10:53:30.166090Z"
    },
    "papermill": {
     "duration": 1.335251,
     "end_time": "2024-07-18T10:53:30.169257",
     "exception": false,
     "start_time": "2024-07-18T10:53:28.834006",
     "status": "completed"
    },
    "tags": []
   },
   "outputs": [
    {
     "name": "stderr",
     "output_type": "stream",
     "text": [
      "Downloading: \"https://download.pytorch.org/models/efficientnet_b3_rwightman-b3899882.pth\" to /root/.cache/torch/hub/checkpoints/efficientnet_b3_rwightman-b3899882.pth\n",
      "100%|██████████| 47.2M/47.2M [00:00<00:00, 75.0MB/s]\n"
     ]
    }
   ],
   "source": [
    "sampler = WeightedRandomSampler(weights=sample_weights, num_samples=150_000, replacement=True)\n",
    "\n",
    "trainDataloader = DataLoader(train, batch_size=batchSize, sampler=sampler)\n",
    "\n",
    "pretrainedModel = efficientnet_b3(weights=EfficientNet_B3_Weights.DEFAULT)\n",
    "model = customModel(pretrainedModel)\n",
    "model = model.to(device)\n",
    "\n",
    "criterion = torch.nn.BCELoss()\n",
    "optimizer = torch.optim.Adam(model.parameters(), lr=learningRate)"
   ]
  },
  {
   "cell_type": "code",
   "execution_count": 11,
   "id": "577f1fa9",
   "metadata": {
    "execution": {
     "iopub.execute_input": "2024-07-18T10:53:30.183948Z",
     "iopub.status.busy": "2024-07-18T10:53:30.183644Z",
     "iopub.status.idle": "2024-07-18T10:53:31.776600Z",
     "shell.execute_reply": "2024-07-18T10:53:31.775538Z"
    },
    "papermill": {
     "duration": 1.602538,
     "end_time": "2024-07-18T10:53:31.778602",
     "exception": false,
     "start_time": "2024-07-18T10:53:30.176064",
     "status": "completed"
    },
    "tags": []
   },
   "outputs": [
    {
     "name": "stderr",
     "output_type": "stream",
     "text": [
      "\u001b[34m\u001b[1mwandb\u001b[0m: W&B API key is configured. Use \u001b[1m`wandb login --relogin`\u001b[0m to force relogin\n",
      "\u001b[34m\u001b[1mwandb\u001b[0m: \u001b[33mWARNING\u001b[0m If you're specifying your api key in code, ensure this code is not shared publicly.\n",
      "\u001b[34m\u001b[1mwandb\u001b[0m: \u001b[33mWARNING\u001b[0m Consider setting the WANDB_API_KEY environment variable, or running `wandb login` from the command line.\n",
      "\u001b[34m\u001b[1mwandb\u001b[0m: Appending key for api.wandb.ai to your netrc file: /root/.netrc\n"
     ]
    },
    {
     "data": {
      "text/plain": [
       "True"
      ]
     },
     "execution_count": 11,
     "metadata": {},
     "output_type": "execute_result"
    }
   ],
   "source": [
    "from kaggle_secrets import UserSecretsClient\n",
    "user_secrets = UserSecretsClient()\n",
    "wandb_key = user_secrets.get_secret(\"wandb\")\n",
    "wandb.login(key=wandb_key)"
   ]
  },
  {
   "cell_type": "code",
   "execution_count": 12,
   "id": "43344d78",
   "metadata": {
    "execution": {
     "iopub.execute_input": "2024-07-18T10:53:31.793596Z",
     "iopub.status.busy": "2024-07-18T10:53:31.793030Z",
     "iopub.status.idle": "2024-07-18T10:53:48.126091Z",
     "shell.execute_reply": "2024-07-18T10:53:48.125269Z"
    },
    "papermill": {
     "duration": 16.343049,
     "end_time": "2024-07-18T10:53:48.128453",
     "exception": false,
     "start_time": "2024-07-18T10:53:31.785404",
     "status": "completed"
    },
    "tags": []
   },
   "outputs": [
    {
     "name": "stderr",
     "output_type": "stream",
     "text": [
      "\u001b[34m\u001b[1mwandb\u001b[0m: Currently logged in as: \u001b[33moskarkuuse\u001b[0m. Use \u001b[1m`wandb login --relogin`\u001b[0m to force relogin\n",
      "\u001b[34m\u001b[1mwandb\u001b[0m: wandb version 0.17.4 is available!  To upgrade, please run:\n",
      "\u001b[34m\u001b[1mwandb\u001b[0m:  $ pip install wandb --upgrade\n",
      "\u001b[34m\u001b[1mwandb\u001b[0m: Tracking run with wandb version 0.17.0\n",
      "\u001b[34m\u001b[1mwandb\u001b[0m: Run data is saved locally in \u001b[35m\u001b[1m/kaggle/working/wandb/run-20240718_105331-o46o42k8\u001b[0m\n",
      "\u001b[34m\u001b[1mwandb\u001b[0m: Run \u001b[1m`wandb offline`\u001b[0m to turn off syncing.\n",
      "\u001b[34m\u001b[1mwandb\u001b[0m: Syncing run \u001b[33mcelestial-night-21\u001b[0m\n",
      "\u001b[34m\u001b[1mwandb\u001b[0m: ⭐️ View project at \u001b[34m\u001b[4mhttps://wandb.ai/oskarkuuse/kaggle-skin-cancer\u001b[0m\n",
      "\u001b[34m\u001b[1mwandb\u001b[0m: 🚀 View run at \u001b[34m\u001b[4mhttps://wandb.ai/oskarkuuse/kaggle-skin-cancer/runs/o46o42k8\u001b[0m\n"
     ]
    }
   ],
   "source": [
    "run = wandb.init(\n",
    "    project=\"kaggle-skin-cancer\",\n",
    "\n",
    "    config={\n",
    "    \"learning_rate\": learningRate,\n",
    "    \"architecture\": \"EfficientNet_b3\",\n",
    "    \"epochs\": EPOCHS,\n",
    "    }\n",
    ")"
   ]
  },
  {
   "cell_type": "code",
   "execution_count": 13,
   "id": "141783cb",
   "metadata": {
    "execution": {
     "iopub.execute_input": "2024-07-18T10:53:48.146595Z",
     "iopub.status.busy": "2024-07-18T10:53:48.145657Z",
     "iopub.status.idle": "2024-07-18T14:29:19.651482Z",
     "shell.execute_reply": "2024-07-18T14:29:19.650636Z"
    },
    "papermill": {
     "duration": 12931.516967,
     "end_time": "2024-07-18T14:29:19.653996",
     "exception": false,
     "start_time": "2024-07-18T10:53:48.137029",
     "status": "completed"
    },
    "tags": []
   },
   "outputs": [
    {
     "name": "stderr",
     "output_type": "stream",
     "text": [
      "\u001b[34m\u001b[1mwandb\u001b[0m:                                                                                \n",
      "\u001b[34m\u001b[1mwandb\u001b[0m: \n",
      "\u001b[34m\u001b[1mwandb\u001b[0m: Run history:\n",
      "\u001b[34m\u001b[1mwandb\u001b[0m:        AUC ▁▇███\n",
      "\u001b[34m\u001b[1mwandb\u001b[0m:    BCEloss █▃▂▁▁\n",
      "\u001b[34m\u001b[1mwandb\u001b[0m: Batch loss ▇█▇▅▂▄▅▁▃▅▃▁▃▁▃▂▂▁▂▂▁▂▁▄▃▂▂▁▁▁▁▁▁▃▆▆▁▁▁▁\n",
      "\u001b[34m\u001b[1mwandb\u001b[0m:   accuracy ▁▇▇██\n",
      "\u001b[34m\u001b[1mwandb\u001b[0m:      epoch ▁▁▁▃▃▃▅▅▅▆▆▆███\n",
      "\u001b[34m\u001b[1mwandb\u001b[0m: \n",
      "\u001b[34m\u001b[1mwandb\u001b[0m: Run summary:\n",
      "\u001b[34m\u001b[1mwandb\u001b[0m:        AUC 0.99944\n",
      "\u001b[34m\u001b[1mwandb\u001b[0m:    BCEloss 0.02392\n",
      "\u001b[34m\u001b[1mwandb\u001b[0m: Batch loss 0.00133\n",
      "\u001b[34m\u001b[1mwandb\u001b[0m:   accuracy 0.99213\n",
      "\u001b[34m\u001b[1mwandb\u001b[0m:      epoch 4\n",
      "\u001b[34m\u001b[1mwandb\u001b[0m: \n",
      "\u001b[34m\u001b[1mwandb\u001b[0m: 🚀 View run \u001b[33mcelestial-night-21\u001b[0m at: \u001b[34m\u001b[4mhttps://wandb.ai/oskarkuuse/kaggle-skin-cancer/runs/o46o42k8\u001b[0m\n",
      "\u001b[34m\u001b[1mwandb\u001b[0m: ⭐️ View project at: \u001b[34m\u001b[4mhttps://wandb.ai/oskarkuuse/kaggle-skin-cancer\u001b[0m\n",
      "\u001b[34m\u001b[1mwandb\u001b[0m: Synced 4 W&B file(s), 0 media file(s), 0 artifact file(s) and 0 other file(s)\n",
      "\u001b[34m\u001b[1mwandb\u001b[0m: Find logs at: \u001b[35m\u001b[1m./wandb/run-20240718_105331-o46o42k8/logs\u001b[0m\n"
     ]
    }
   ],
   "source": [
    "best_model = None\n",
    "best_loss = np.inf\n",
    "batch_idx = 0\n",
    "metric = BinaryAUROC()\n",
    "metric = metric.to(device)\n",
    "\n",
    "for epoch in range(EPOCHS):\n",
    "    \n",
    "    epoch_loss = 0\n",
    "    epoch_acc = 0\n",
    "    \n",
    "    model.train()\n",
    "    for images, labels in trainDataloader:\n",
    "        \n",
    "        labels = labels.float()\n",
    "        \n",
    "        images, labels = images.to(device), labels.to(device)\n",
    "        optimizer.zero_grad()\n",
    "        \n",
    "        outputs = model(images).squeeze(dim=1)\n",
    "        loss = criterion(outputs, labels)\n",
    "        \n",
    "        loss.backward()\n",
    "        optimizer.step()\n",
    "        \n",
    "        loss_val = loss.item()\n",
    "        \n",
    "        epoch_loss += loss_val\n",
    "        epoch_acc += sum((outputs.detach().cpu() >= 0.5) == labels.cpu()).item() / batchSize\n",
    "        \n",
    "        metric.update(outputs, labels)\n",
    "        \n",
    "        wandb.log({\"Batch loss\": loss_val})\n",
    "        \n",
    "        batch_idx += 1\n",
    "    \n",
    "    wandb.log({\"epoch\": epoch, \"BCEloss\": epoch_loss / len(trainDataloader)})\n",
    "    wandb.log({\"epoch\": epoch, \"accuracy\": epoch_acc / len(trainDataloader)})\n",
    "    \n",
    "    wandb.log({\"epoch\": epoch, \"AUC\": metric.compute().item()})\n",
    "    metric.reset()\n",
    "    \n",
    "#     if epoch_loss / len(trainDataloader) < best_loss:\n",
    "#         best_loss = epoch_loss / len(trainDataloader)\n",
    "#         best_model = copy.deepcopy(model.state_dict())\n",
    "\n",
    "    torch.save(model.state_dict(), f'model_params_epoch_{epoch}.pt')\n",
    "    \n",
    "run.finish()"
   ]
  },
  {
   "cell_type": "code",
   "execution_count": 14,
   "id": "9540e74f",
   "metadata": {
    "execution": {
     "iopub.execute_input": "2024-07-18T14:29:19.672768Z",
     "iopub.status.busy": "2024-07-18T14:29:19.671892Z",
     "iopub.status.idle": "2024-07-18T14:29:19.676176Z",
     "shell.execute_reply": "2024-07-18T14:29:19.675289Z"
    },
    "papermill": {
     "duration": 0.015878,
     "end_time": "2024-07-18T14:29:19.678270",
     "exception": false,
     "start_time": "2024-07-18T14:29:19.662392",
     "status": "completed"
    },
    "tags": []
   },
   "outputs": [],
   "source": [
    "# if best_model != None:\n",
    "#     torch.save(best_model, 'model_best_params.pt')"
   ]
  },
  {
   "cell_type": "code",
   "execution_count": 15,
   "id": "b826d76c",
   "metadata": {
    "execution": {
     "iopub.execute_input": "2024-07-18T14:29:19.696864Z",
     "iopub.status.busy": "2024-07-18T14:29:19.695983Z",
     "iopub.status.idle": "2024-07-18T14:29:19.700425Z",
     "shell.execute_reply": "2024-07-18T14:29:19.699558Z"
    },
    "papermill": {
     "duration": 0.015816,
     "end_time": "2024-07-18T14:29:19.702372",
     "exception": false,
     "start_time": "2024-07-18T14:29:19.686556",
     "status": "completed"
    },
    "tags": []
   },
   "outputs": [],
   "source": [
    "# torch.save(model.state_dict(), 'model_last_params.pt')"
   ]
  }
 ],
 "metadata": {
  "kaggle": {
   "accelerator": "gpu",
   "dataSources": [
    {
     "databundleVersionId": 9094797,
     "sourceId": 63056,
     "sourceType": "competition"
    }
   ],
   "dockerImageVersionId": 30733,
   "isGpuEnabled": true,
   "isInternetEnabled": true,
   "language": "python",
   "sourceType": "notebook"
  },
  "kernelspec": {
   "display_name": "Python 3",
   "language": "python",
   "name": "python3"
  },
  "language_info": {
   "codemirror_mode": {
    "name": "ipython",
    "version": 3
   },
   "file_extension": ".py",
   "mimetype": "text/x-python",
   "name": "python",
   "nbconvert_exporter": "python",
   "pygments_lexer": "ipython3",
   "version": "3.10.13"
  },
  "papermill": {
   "default_parameters": {},
   "duration": 12988.44092,
   "end_time": "2024-07-18T14:29:22.555496",
   "environment_variables": {},
   "exception": null,
   "input_path": "__notebook__.ipynb",
   "output_path": "__notebook__.ipynb",
   "parameters": {},
   "start_time": "2024-07-18T10:52:54.114576",
   "version": "2.5.0"
  }
 },
 "nbformat": 4,
 "nbformat_minor": 5
}
