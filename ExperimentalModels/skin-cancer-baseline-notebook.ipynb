{
 "cells": [
  {
   "cell_type": "code",
   "execution_count": 1,
   "id": "f173f45e",
   "metadata": {
    "execution": {
     "iopub.execute_input": "2024-07-12T14:16:13.032126Z",
     "iopub.status.busy": "2024-07-12T14:16:13.031408Z",
     "iopub.status.idle": "2024-07-12T14:16:21.808536Z",
     "shell.execute_reply": "2024-07-12T14:16:21.807734Z"
    },
    "papermill": {
     "duration": 8.785869,
     "end_time": "2024-07-12T14:16:21.810866",
     "exception": false,
     "start_time": "2024-07-12T14:16:13.024997",
     "status": "completed"
    },
    "tags": []
   },
   "outputs": [],
   "source": [
    "import h5py\n",
    "from io import BytesIO\n",
    "from PIL import Image\n",
    "import numpy as np\n",
    "import pandas as pd\n",
    "from matplotlib import pyplot as plt\n",
    "import wandb\n",
    "import copy\n",
    "\n",
    "import albumentations as A\n",
    "from albumentations.pytorch import ToTensorV2\n",
    "\n",
    "import torch\n",
    "from torch.utils.data import Dataset, DataLoader, WeightedRandomSampler\n",
    "import torchvision\n",
    "from torchvision.transforms import v2\n",
    "\n",
    "from torchvision.models import resnet50, ResNet50_Weights"
   ]
  },
  {
   "cell_type": "code",
   "execution_count": 2,
   "id": "ee920bf7",
   "metadata": {
    "execution": {
     "iopub.execute_input": "2024-07-12T14:16:21.821959Z",
     "iopub.status.busy": "2024-07-12T14:16:21.821486Z",
     "iopub.status.idle": "2024-07-12T14:16:36.195213Z",
     "shell.execute_reply": "2024-07-12T14:16:36.194340Z"
    },
    "papermill": {
     "duration": 14.381536,
     "end_time": "2024-07-12T14:16:36.197545",
     "exception": false,
     "start_time": "2024-07-12T14:16:21.816009",
     "status": "completed"
    },
    "tags": []
   },
   "outputs": [
    {
     "name": "stdout",
     "output_type": "stream",
     "text": [
      "Collecting torcheval\r\n",
      "  Downloading torcheval-0.0.7-py3-none-any.whl.metadata (8.6 kB)\r\n",
      "Requirement already satisfied: typing-extensions in /opt/conda/lib/python3.10/site-packages (from torcheval) (4.9.0)\r\n",
      "Downloading torcheval-0.0.7-py3-none-any.whl (179 kB)\r\n",
      "\u001b[2K   \u001b[90m━━━━━━━━━━━━━━━━━━━━━━━━━━━━━━━━━━━━━━━━\u001b[0m \u001b[32m179.2/179.2 kB\u001b[0m \u001b[31m4.4 MB/s\u001b[0m eta \u001b[36m0:00:00\u001b[0m\r\n",
      "\u001b[?25hInstalling collected packages: torcheval\r\n",
      "Successfully installed torcheval-0.0.7\r\n"
     ]
    }
   ],
   "source": [
    "!pip install torcheval\n",
    "from torcheval.metrics import BinaryAUROC"
   ]
  },
  {
   "cell_type": "code",
   "execution_count": 3,
   "id": "df393e6e",
   "metadata": {
    "execution": {
     "iopub.execute_input": "2024-07-12T14:16:36.209838Z",
     "iopub.status.busy": "2024-07-12T14:16:36.209272Z",
     "iopub.status.idle": "2024-07-12T14:16:43.403597Z",
     "shell.execute_reply": "2024-07-12T14:16:43.402771Z"
    },
    "papermill": {
     "duration": 7.202872,
     "end_time": "2024-07-12T14:16:43.405890",
     "exception": false,
     "start_time": "2024-07-12T14:16:36.203018",
     "status": "completed"
    },
    "tags": []
   },
   "outputs": [
    {
     "name": "stderr",
     "output_type": "stream",
     "text": [
      "/tmp/ipykernel_25/127800222.py:1: DtypeWarning: Columns (51,52) have mixed types. Specify dtype option on import or set low_memory=False.\n",
      "  train_metadata = pd.read_csv('/kaggle/input/isic-2024-challenge/train-metadata.csv')\n"
     ]
    }
   ],
   "source": [
    "train_metadata = pd.read_csv('/kaggle/input/isic-2024-challenge/train-metadata.csv')"
   ]
  },
  {
   "cell_type": "code",
   "execution_count": 4,
   "id": "064e7bdf",
   "metadata": {
    "execution": {
     "iopub.execute_input": "2024-07-12T14:16:43.418362Z",
     "iopub.status.busy": "2024-07-12T14:16:43.417835Z",
     "iopub.status.idle": "2024-07-12T14:16:43.425278Z",
     "shell.execute_reply": "2024-07-12T14:16:43.424431Z"
    },
    "papermill": {
     "duration": 0.015711,
     "end_time": "2024-07-12T14:16:43.427184",
     "exception": false,
     "start_time": "2024-07-12T14:16:43.411473",
     "status": "completed"
    },
    "tags": []
   },
   "outputs": [],
   "source": [
    "# Image dataset for training\n",
    "\n",
    "class ImageDataset(Dataset):\n",
    "    def __init__(self, dataframe, hdfPath, augmentation=None):\n",
    "        self.dataframe = dataframe\n",
    "        self.hdf = h5py.File(hdfPath, mode=\"r\")\n",
    "        self.ids = dataframe['isic_id']\n",
    "        self.targets = dataframe['target'].values\n",
    "        self.augmentation = augmentation\n",
    "        \n",
    "    def __len__(self):\n",
    "        return len(self.ids)\n",
    "    \n",
    "    def __getitem__(self, idx):\n",
    "        itemId = self.ids[idx]\n",
    "        image = Image.open(BytesIO(self.hdf[itemId][()]))\n",
    "        image = np.array(image)\n",
    "        target = self.targets[idx]\n",
    "            \n",
    "        if self.augmentation:\n",
    "            image = self.augmentation(image=image)['image']\n",
    "            \n",
    "        return image, target"
   ]
  },
  {
   "cell_type": "code",
   "execution_count": 5,
   "id": "a7939999",
   "metadata": {
    "execution": {
     "iopub.execute_input": "2024-07-12T14:16:43.439003Z",
     "iopub.status.busy": "2024-07-12T14:16:43.438432Z",
     "iopub.status.idle": "2024-07-12T14:16:43.444500Z",
     "shell.execute_reply": "2024-07-12T14:16:43.443686Z"
    },
    "papermill": {
     "duration": 0.014092,
     "end_time": "2024-07-12T14:16:43.446467",
     "exception": false,
     "start_time": "2024-07-12T14:16:43.432375",
     "status": "completed"
    },
    "tags": []
   },
   "outputs": [],
   "source": [
    "# Define the custom model to include softmax\n",
    "\n",
    "class customResnet(torch.nn.Module):\n",
    "    def __init__(self, pretrainedModel):\n",
    "        super(customResnet, self).__init__()\n",
    "        self.pretrainedModel = pretrainedModel\n",
    "        \n",
    "        self.classifier = torch.nn.Sequential(\n",
    "            torch.nn.Dropout(p=0.25),\n",
    "            torch.nn.Linear(1000, 1),\n",
    "            torch.nn.Sigmoid()\n",
    "        )\n",
    "        \n",
    "    def forward(self, x):\n",
    "        x = self.pretrainedModel(x)\n",
    "        x = self.classifier(x)\n",
    "        return x"
   ]
  },
  {
   "cell_type": "code",
   "execution_count": 6,
   "id": "243ef788",
   "metadata": {
    "execution": {
     "iopub.execute_input": "2024-07-12T14:16:43.457915Z",
     "iopub.status.busy": "2024-07-12T14:16:43.457651Z",
     "iopub.status.idle": "2024-07-12T14:16:43.487948Z",
     "shell.execute_reply": "2024-07-12T14:16:43.487017Z"
    },
    "papermill": {
     "duration": 0.038264,
     "end_time": "2024-07-12T14:16:43.489918",
     "exception": false,
     "start_time": "2024-07-12T14:16:43.451654",
     "status": "completed"
    },
    "tags": []
   },
   "outputs": [
    {
     "name": "stderr",
     "output_type": "stream",
     "text": [
      "/opt/conda/lib/python3.10/site-packages/albumentations/augmentations/blur/transforms.py:180: UserWarning: blur_limit and sigma_limit minimum value can not be both equal to 0. blur_limit minimum value changed to 3.\n",
      "  warnings.warn(\n"
     ]
    }
   ],
   "source": [
    "# From 2020 winners\n",
    "transforms_train_w = A.Compose([\n",
    "    A.Transpose(p=0.5),\n",
    "    A.VerticalFlip(p=0.5),\n",
    "    A.HorizontalFlip(p=0.5),\n",
    "    A.RandomBrightnessContrast(p=0.2),\n",
    "    A.OneOf([\n",
    "        A.MotionBlur(blur_limit=5),\n",
    "        A.MedianBlur(blur_limit=5),\n",
    "        A.GaussianBlur(blur_limit=5),\n",
    "        A.GaussNoise(var_limit=(5.0, 30.0)),\n",
    "    ], p=0.7),\n",
    "\n",
    "    A.OneOf([\n",
    "        A.OpticalDistortion(distort_limit=1.0),\n",
    "        A.GridDistortion(num_steps=5, distort_limit=1.),\n",
    "        A.ElasticTransform(alpha=3),\n",
    "    ], p=0.7),\n",
    "\n",
    "    A.CLAHE(clip_limit=4.0, p=0.7),\n",
    "    A.HueSaturationValue(hue_shift_limit=10, sat_shift_limit=20, val_shift_limit=10, p=0.5),\n",
    "    A.ShiftScaleRotate(shift_limit=0.1, scale_limit=0.1, rotate_limit=15, border_mode=0, p=0.85),\n",
    "    A.Resize(224, 224),\n",
    "    A.CoarseDropout(max_height=int(224 * 0.375), max_width=int(224 * 0.375), max_holes=1, p=0.7),    \n",
    "    A.Normalize(mean=(0.485, 0.456, 0.406), std=(0.229, 0.224, 0.225)),\n",
    "    ToTensorV2()\n",
    "])\n",
    "\n",
    "transforms_train = A.Compose([\n",
    "    A.Transpose(p=0.5),\n",
    "    A.VerticalFlip(p=0.5),\n",
    "    A.HorizontalFlip(p=0.5),\n",
    "    A.RandomBrightnessContrast(p=0.2),\n",
    "    A.OneOf([\n",
    "        A.MotionBlur(blur_limit=5),\n",
    "        A.MedianBlur(blur_limit=5),\n",
    "        A.GaussianBlur(blur_limit=5),\n",
    "        A.GaussNoise(var_limit=(5.0, 30.0)),\n",
    "    ], p=0.7),\n",
    "    A.CLAHE(clip_limit=4.0, p=0.7),\n",
    "    A.HueSaturationValue(hue_shift_limit=10, sat_shift_limit=20, val_shift_limit=10, p=0.5),\n",
    "    A.Resize(224, 224),   \n",
    "    A.Normalize(mean=(0.485, 0.456, 0.406), std=(0.229, 0.224, 0.225)),\n",
    "    ToTensorV2()\n",
    "])\n",
    "\n",
    "transforms_test = A.Compose([\n",
    "    A.Resize(224, 224),\n",
    "    A.Normalize(mean=(0.485, 0.456, 0.406), std=(0.229, 0.224, 0.225)),\n",
    "    ToTensorV2()\n",
    "])\n",
    "\n",
    "train = ImageDataset(train_metadata, '/kaggle/input/isic-2024-challenge/train-image.hdf5', augmentation=transforms_train)"
   ]
  },
  {
   "cell_type": "code",
   "execution_count": 7,
   "id": "7efaf9e0",
   "metadata": {
    "execution": {
     "iopub.execute_input": "2024-07-12T14:16:43.501412Z",
     "iopub.status.busy": "2024-07-12T14:16:43.501147Z",
     "iopub.status.idle": "2024-07-12T14:16:43.566140Z",
     "shell.execute_reply": "2024-07-12T14:16:43.565275Z"
    },
    "papermill": {
     "duration": 0.073015,
     "end_time": "2024-07-12T14:16:43.568136",
     "exception": false,
     "start_time": "2024-07-12T14:16:43.495121",
     "status": "completed"
    },
    "tags": []
   },
   "outputs": [
    {
     "name": "stdout",
     "output_type": "stream",
     "text": [
      "GPU is available\n"
     ]
    }
   ],
   "source": [
    "if torch.cuda.is_available():\n",
    "    print(\"GPU is available\")\n",
    "    device = torch.device(\"cuda\")\n",
    "else:\n",
    "    print(\"GPU is not available, using CPU instead\")\n",
    "    device = torch.device(\"cpu\")"
   ]
  },
  {
   "cell_type": "code",
   "execution_count": 8,
   "id": "9289ec73",
   "metadata": {
    "execution": {
     "iopub.execute_input": "2024-07-12T14:16:43.580317Z",
     "iopub.status.busy": "2024-07-12T14:16:43.579573Z",
     "iopub.status.idle": "2024-07-12T14:16:43.583496Z",
     "shell.execute_reply": "2024-07-12T14:16:43.582777Z"
    },
    "papermill": {
     "duration": 0.011898,
     "end_time": "2024-07-12T14:16:43.585414",
     "exception": false,
     "start_time": "2024-07-12T14:16:43.573516",
     "status": "completed"
    },
    "tags": []
   },
   "outputs": [],
   "source": [
    "EPOCHS = 10\n",
    "batchSize = 128\n",
    "learningRate = 0.0005"
   ]
  },
  {
   "cell_type": "code",
   "execution_count": 9,
   "id": "5f3f3dd2",
   "metadata": {
    "execution": {
     "iopub.execute_input": "2024-07-12T14:16:43.597391Z",
     "iopub.status.busy": "2024-07-12T14:16:43.596655Z",
     "iopub.status.idle": "2024-07-12T14:16:43.682618Z",
     "shell.execute_reply": "2024-07-12T14:16:43.681748Z"
    },
    "papermill": {
     "duration": 0.093941,
     "end_time": "2024-07-12T14:16:43.684598",
     "exception": false,
     "start_time": "2024-07-12T14:16:43.590657",
     "status": "completed"
    },
    "tags": []
   },
   "outputs": [
    {
     "data": {
      "text/plain": [
       "{0: 2.4958444190422947e-06, 1: 0.002544529262086514}"
      ]
     },
     "execution_count": 9,
     "metadata": {},
     "output_type": "execute_result"
    }
   ],
   "source": [
    "class_counts = train_metadata['target'].value_counts().to_dict()\n",
    "class_weights = {cls: 1.0 / count for cls, count in class_counts.items()}\n",
    "sample_weights = [class_weights[target] for target in train_metadata['target']]\n",
    "\n",
    "class_weights"
   ]
  },
  {
   "cell_type": "code",
   "execution_count": 10,
   "id": "c8a5eb9d",
   "metadata": {
    "execution": {
     "iopub.execute_input": "2024-07-12T14:16:43.697698Z",
     "iopub.status.busy": "2024-07-12T14:16:43.697225Z",
     "iopub.status.idle": "2024-07-12T14:16:45.154140Z",
     "shell.execute_reply": "2024-07-12T14:16:45.153372Z"
    },
    "papermill": {
     "duration": 1.466085,
     "end_time": "2024-07-12T14:16:45.156518",
     "exception": false,
     "start_time": "2024-07-12T14:16:43.690433",
     "status": "completed"
    },
    "tags": []
   },
   "outputs": [
    {
     "name": "stderr",
     "output_type": "stream",
     "text": [
      "Downloading: \"https://download.pytorch.org/models/resnet50-11ad3fa6.pth\" to /root/.cache/torch/hub/checkpoints/resnet50-11ad3fa6.pth\n",
      "100%|██████████| 97.8M/97.8M [00:00<00:00, 159MB/s]\n"
     ]
    }
   ],
   "source": [
    "sampler = WeightedRandomSampler(weights=sample_weights, num_samples=len(sample_weights), replacement=True)\n",
    "\n",
    "trainDataloader = DataLoader(train, batch_size=batchSize, sampler=sampler)\n",
    "\n",
    "pretrainedResnet = resnet50(weights=ResNet50_Weights.DEFAULT)\n",
    "model = customResnet(pretrainedResnet)\n",
    "model = model.to(device)\n",
    "\n",
    "criterion = torch.nn.BCELoss()\n",
    "optimizer = torch.optim.Adam(model.parameters(), lr=learningRate)"
   ]
  },
  {
   "cell_type": "code",
   "execution_count": 11,
   "id": "5d5be2fe",
   "metadata": {
    "execution": {
     "iopub.execute_input": "2024-07-12T14:16:45.171163Z",
     "iopub.status.busy": "2024-07-12T14:16:45.170654Z",
     "iopub.status.idle": "2024-07-12T14:16:46.692156Z",
     "shell.execute_reply": "2024-07-12T14:16:46.691264Z"
    },
    "papermill": {
     "duration": 1.530879,
     "end_time": "2024-07-12T14:16:46.694148",
     "exception": false,
     "start_time": "2024-07-12T14:16:45.163269",
     "status": "completed"
    },
    "tags": []
   },
   "outputs": [
    {
     "name": "stderr",
     "output_type": "stream",
     "text": [
      "\u001b[34m\u001b[1mwandb\u001b[0m: W&B API key is configured. Use \u001b[1m`wandb login --relogin`\u001b[0m to force relogin\n",
      "\u001b[34m\u001b[1mwandb\u001b[0m: \u001b[33mWARNING\u001b[0m If you're specifying your api key in code, ensure this code is not shared publicly.\n",
      "\u001b[34m\u001b[1mwandb\u001b[0m: \u001b[33mWARNING\u001b[0m Consider setting the WANDB_API_KEY environment variable, or running `wandb login` from the command line.\n",
      "\u001b[34m\u001b[1mwandb\u001b[0m: Appending key for api.wandb.ai to your netrc file: /root/.netrc\n"
     ]
    },
    {
     "data": {
      "text/plain": [
       "True"
      ]
     },
     "execution_count": 11,
     "metadata": {},
     "output_type": "execute_result"
    }
   ],
   "source": [
    "from kaggle_secrets import UserSecretsClient\n",
    "user_secrets = UserSecretsClient()\n",
    "wandb_key = user_secrets.get_secret(\"wandb\")\n",
    "wandb.login(key=wandb_key)"
   ]
  },
  {
   "cell_type": "code",
   "execution_count": 12,
   "id": "44008353",
   "metadata": {
    "execution": {
     "iopub.execute_input": "2024-07-12T14:16:46.709130Z",
     "iopub.status.busy": "2024-07-12T14:16:46.708567Z",
     "iopub.status.idle": "2024-07-12T14:17:03.079721Z",
     "shell.execute_reply": "2024-07-12T14:17:03.078633Z"
    },
    "papermill": {
     "duration": 16.381039,
     "end_time": "2024-07-12T14:17:03.082030",
     "exception": false,
     "start_time": "2024-07-12T14:16:46.700991",
     "status": "completed"
    },
    "tags": []
   },
   "outputs": [
    {
     "name": "stderr",
     "output_type": "stream",
     "text": [
      "\u001b[34m\u001b[1mwandb\u001b[0m: Currently logged in as: \u001b[33moskarkuuse\u001b[0m. Use \u001b[1m`wandb login --relogin`\u001b[0m to force relogin\n",
      "\u001b[34m\u001b[1mwandb\u001b[0m: wandb version 0.17.4 is available!  To upgrade, please run:\n",
      "\u001b[34m\u001b[1mwandb\u001b[0m:  $ pip install wandb --upgrade\n",
      "\u001b[34m\u001b[1mwandb\u001b[0m: Tracking run with wandb version 0.17.0\n",
      "\u001b[34m\u001b[1mwandb\u001b[0m: Run data is saved locally in \u001b[35m\u001b[1m/kaggle/working/wandb/run-20240712_141646-h16bhuef\u001b[0m\n",
      "\u001b[34m\u001b[1mwandb\u001b[0m: Run \u001b[1m`wandb offline`\u001b[0m to turn off syncing.\n",
      "\u001b[34m\u001b[1mwandb\u001b[0m: Syncing run \u001b[33mfancy-cloud-14\u001b[0m\n",
      "\u001b[34m\u001b[1mwandb\u001b[0m: ⭐️ View project at \u001b[34m\u001b[4mhttps://wandb.ai/oskarkuuse/kaggle-skin-cancer\u001b[0m\n",
      "\u001b[34m\u001b[1mwandb\u001b[0m: 🚀 View run at \u001b[34m\u001b[4mhttps://wandb.ai/oskarkuuse/kaggle-skin-cancer/runs/h16bhuef\u001b[0m\n"
     ]
    }
   ],
   "source": [
    "run = wandb.init(\n",
    "    project=\"kaggle-skin-cancer\",\n",
    "\n",
    "    config={\n",
    "    \"learning_rate\": learningRate,\n",
    "    \"architecture\": \"Resnet50\",\n",
    "    \"epochs\": EPOCHS,\n",
    "    }\n",
    ")"
   ]
  },
  {
   "cell_type": "code",
   "execution_count": 13,
   "id": "648b0f54",
   "metadata": {
    "execution": {
     "iopub.execute_input": "2024-07-12T14:17:03.099546Z",
     "iopub.status.busy": "2024-07-12T14:17:03.098774Z",
     "iopub.status.idle": "2024-07-12T23:49:47.246216Z",
     "shell.execute_reply": "2024-07-12T23:49:47.245246Z"
    },
    "papermill": {
     "duration": 34364.158025,
     "end_time": "2024-07-12T23:49:47.248537",
     "exception": false,
     "start_time": "2024-07-12T14:17:03.090512",
     "status": "completed"
    },
    "tags": []
   },
   "outputs": [
    {
     "name": "stderr",
     "output_type": "stream",
     "text": [
      "\u001b[34m\u001b[1mwandb\u001b[0m:                                                                                \n",
      "\u001b[34m\u001b[1mwandb\u001b[0m: \n",
      "\u001b[34m\u001b[1mwandb\u001b[0m: Run history:\n",
      "\u001b[34m\u001b[1mwandb\u001b[0m:        AUC ▁▇████████\n",
      "\u001b[34m\u001b[1mwandb\u001b[0m:    BCEloss █▃▂▂▁▁▁▁▁▁\n",
      "\u001b[34m\u001b[1mwandb\u001b[0m: Batch loss █▄▃▂▂▁▂▁▁▂▁▁▁▁▁▁▃▂▁▁▁▁▁▁▁▂▁▁▂▁▁▁▁▁▂▁▁▁▁▁\n",
      "\u001b[34m\u001b[1mwandb\u001b[0m:   accuracy ▁▇▇▇██████\n",
      "\u001b[34m\u001b[1mwandb\u001b[0m:      epoch ▁▁▁▂▂▂▃▃▃▃▃▃▄▄▄▅▅▅▆▆▆▆▆▆▇▇▇███\n",
      "\u001b[34m\u001b[1mwandb\u001b[0m: \n",
      "\u001b[34m\u001b[1mwandb\u001b[0m: Run summary:\n",
      "\u001b[34m\u001b[1mwandb\u001b[0m:        AUC 0.99998\n",
      "\u001b[34m\u001b[1mwandb\u001b[0m:    BCEloss 0.00479\n",
      "\u001b[34m\u001b[1mwandb\u001b[0m: Batch loss 1e-05\n",
      "\u001b[34m\u001b[1mwandb\u001b[0m:   accuracy 0.9982\n",
      "\u001b[34m\u001b[1mwandb\u001b[0m:      epoch 9\n",
      "\u001b[34m\u001b[1mwandb\u001b[0m: \n",
      "\u001b[34m\u001b[1mwandb\u001b[0m: 🚀 View run \u001b[33mfancy-cloud-14\u001b[0m at: \u001b[34m\u001b[4mhttps://wandb.ai/oskarkuuse/kaggle-skin-cancer/runs/h16bhuef\u001b[0m\n",
      "\u001b[34m\u001b[1mwandb\u001b[0m: ⭐️ View project at: \u001b[34m\u001b[4mhttps://wandb.ai/oskarkuuse/kaggle-skin-cancer\u001b[0m\n",
      "\u001b[34m\u001b[1mwandb\u001b[0m: Synced 4 W&B file(s), 0 media file(s), 0 artifact file(s) and 0 other file(s)\n",
      "\u001b[34m\u001b[1mwandb\u001b[0m: Find logs at: \u001b[35m\u001b[1m./wandb/run-20240712_141646-h16bhuef/logs\u001b[0m\n"
     ]
    }
   ],
   "source": [
    "best_model = None\n",
    "best_loss = np.inf\n",
    "batch_idx = 0\n",
    "metric = BinaryAUROC()\n",
    "metric = metric.to(device)\n",
    "\n",
    "for epoch in range(EPOCHS):\n",
    "    \n",
    "    epoch_loss = 0\n",
    "    epoch_acc = 0\n",
    "    \n",
    "    model.train()\n",
    "    for images, labels in trainDataloader:\n",
    "        \n",
    "        labels = labels.float()\n",
    "        \n",
    "        images, labels = images.to(device), labels.to(device)\n",
    "        optimizer.zero_grad()\n",
    "        \n",
    "        outputs = model(images).squeeze(dim=1)\n",
    "        loss = criterion(outputs, labels)\n",
    "        \n",
    "        loss.backward()\n",
    "        optimizer.step()\n",
    "        \n",
    "        loss_val = loss.item()\n",
    "        \n",
    "        epoch_loss += loss_val\n",
    "        epoch_acc += sum((outputs.detach().cpu() >= 0.5) == labels.cpu()).item() / batchSize\n",
    "        \n",
    "        metric.update(outputs, labels)\n",
    "        \n",
    "        wandb.log({\"Batch loss\": loss_val})\n",
    "        \n",
    "        batch_idx += 1\n",
    "    \n",
    "    wandb.log({\"epoch\": epoch, \"BCEloss\": epoch_loss / len(trainDataloader)})\n",
    "    wandb.log({\"epoch\": epoch, \"accuracy\": epoch_acc / len(trainDataloader)})\n",
    "    \n",
    "    wandb.log({\"epoch\": epoch, \"AUC\": metric.compute().item()})\n",
    "    metric.reset()\n",
    "    \n",
    "    if epoch_loss / len(trainDataloader) < best_loss:\n",
    "        best_loss = epoch_loss / len(trainDataloader)\n",
    "        best_model = copy.deepcopy(model.state_dict())\n",
    "    \n",
    "run.finish()"
   ]
  },
  {
   "cell_type": "code",
   "execution_count": 14,
   "id": "13313348",
   "metadata": {
    "execution": {
     "iopub.execute_input": "2024-07-12T23:49:47.266066Z",
     "iopub.status.busy": "2024-07-12T23:49:47.265757Z",
     "iopub.status.idle": "2024-07-12T23:49:47.429622Z",
     "shell.execute_reply": "2024-07-12T23:49:47.428641Z"
    },
    "papermill": {
     "duration": 0.175493,
     "end_time": "2024-07-12T23:49:47.432171",
     "exception": false,
     "start_time": "2024-07-12T23:49:47.256678",
     "status": "completed"
    },
    "tags": []
   },
   "outputs": [],
   "source": [
    "if best_model != None:\n",
    "    torch.save(best_model, 'model_best_params.pt')"
   ]
  },
  {
   "cell_type": "code",
   "execution_count": 15,
   "id": "e99ab86b",
   "metadata": {
    "execution": {
     "iopub.execute_input": "2024-07-12T23:49:47.449466Z",
     "iopub.status.busy": "2024-07-12T23:49:47.449152Z",
     "iopub.status.idle": "2024-07-12T23:49:47.614219Z",
     "shell.execute_reply": "2024-07-12T23:49:47.613446Z"
    },
    "papermill": {
     "duration": 0.176143,
     "end_time": "2024-07-12T23:49:47.616451",
     "exception": false,
     "start_time": "2024-07-12T23:49:47.440308",
     "status": "completed"
    },
    "tags": []
   },
   "outputs": [],
   "source": [
    "torch.save(model.state_dict(), 'model_last_params.pt')"
   ]
  }
 ],
 "metadata": {
  "kaggle": {
   "accelerator": "gpu",
   "dataSources": [
    {
     "databundleVersionId": 9094797,
     "sourceId": 63056,
     "sourceType": "competition"
    }
   ],
   "dockerImageVersionId": 30732,
   "isGpuEnabled": true,
   "isInternetEnabled": true,
   "language": "python",
   "sourceType": "notebook"
  },
  "kernelspec": {
   "display_name": "Python 3",
   "language": "python",
   "name": "python3"
  },
  "language_info": {
   "codemirror_mode": {
    "name": "ipython",
    "version": 3
   },
   "file_extension": ".py",
   "mimetype": "text/x-python",
   "name": "python",
   "nbconvert_exporter": "python",
   "pygments_lexer": "ipython3",
   "version": "3.10.13"
  },
  "papermill": {
   "default_parameters": {},
   "duration": 34420.218022,
   "end_time": "2024-07-12T23:49:50.509318",
   "environment_variables": {},
   "exception": null,
   "input_path": "__notebook__.ipynb",
   "output_path": "__notebook__.ipynb",
   "parameters": {},
   "start_time": "2024-07-12T14:16:10.291296",
   "version": "2.5.0"
  }
 },
 "nbformat": 4,
 "nbformat_minor": 5
}
