{
 "cells": [
  {
   "cell_type": "code",
   "execution_count": 1,
   "id": "aac2240e",
   "metadata": {
    "_cell_guid": "b1076dfc-b9ad-4769-8c92-a6c4dae69d19",
    "_uuid": "8f2839f25d086af736a60e9eeb907d3b93b6e0e5",
    "execution": {
     "iopub.execute_input": "2024-07-18T15:54:57.853785Z",
     "iopub.status.busy": "2024-07-18T15:54:57.853001Z",
     "iopub.status.idle": "2024-07-18T15:55:06.496317Z",
     "shell.execute_reply": "2024-07-18T15:55:06.495550Z"
    },
    "papermill": {
     "duration": 8.650989,
     "end_time": "2024-07-18T15:55:06.498572",
     "exception": false,
     "start_time": "2024-07-18T15:54:57.847583",
     "status": "completed"
    },
    "tags": []
   },
   "outputs": [],
   "source": [
    "import h5py\n",
    "from io import BytesIO\n",
    "from PIL import Image\n",
    "import numpy as np\n",
    "import pandas as pd\n",
    "from matplotlib import pyplot as plt\n",
    "import wandb\n",
    "import copy\n",
    "import csv\n",
    "\n",
    "import albumentations as A\n",
    "from albumentations.pytorch import ToTensorV2\n",
    "\n",
    "import torch\n",
    "from torch.utils.data import Dataset, DataLoader\n",
    "import torchvision\n",
    "from torchvision.transforms import v2\n",
    "\n",
    "from torchvision.models import resnet50, ResNet50_Weights, efficientnet_b3, EfficientNet_B3_Weights"
   ]
  },
  {
   "cell_type": "code",
   "execution_count": 2,
   "id": "0ec30815",
   "metadata": {
    "execution": {
     "iopub.execute_input": "2024-07-18T15:55:06.507360Z",
     "iopub.status.busy": "2024-07-18T15:55:06.506528Z",
     "iopub.status.idle": "2024-07-18T15:55:06.513517Z",
     "shell.execute_reply": "2024-07-18T15:55:06.512723Z"
    },
    "papermill": {
     "duration": 0.013084,
     "end_time": "2024-07-18T15:55:06.515411",
     "exception": false,
     "start_time": "2024-07-18T15:55:06.502327",
     "status": "completed"
    },
    "tags": []
   },
   "outputs": [],
   "source": [
    "class TestDataset(Dataset):\n",
    "    def __init__(self, dataframe, hdfPath, augmentation=None):\n",
    "        self.dataframe = dataframe\n",
    "        self.hdf = h5py.File(hdfPath, mode=\"r\")\n",
    "        self.ids = dataframe['isic_id']\n",
    "        self.augmentation = augmentation\n",
    "        \n",
    "    def __len__(self):\n",
    "        return len(self.ids)\n",
    "    \n",
    "    def __getitem__(self, idx):\n",
    "        itemId = self.ids[idx]\n",
    "        image = Image.open(BytesIO(self.hdf[itemId][()]))\n",
    "        image = np.array(image)\n",
    "            \n",
    "        if self.augmentation:\n",
    "            image = self.augmentation(image=image)['image']\n",
    "            \n",
    "        return image, itemId"
   ]
  },
  {
   "cell_type": "code",
   "execution_count": 3,
   "id": "54f31a82",
   "metadata": {
    "execution": {
     "iopub.execute_input": "2024-07-18T15:55:06.523003Z",
     "iopub.status.busy": "2024-07-18T15:55:06.522745Z",
     "iopub.status.idle": "2024-07-18T15:55:06.528427Z",
     "shell.execute_reply": "2024-07-18T15:55:06.527575Z"
    },
    "papermill": {
     "duration": 0.011483,
     "end_time": "2024-07-18T15:55:06.530208",
     "exception": false,
     "start_time": "2024-07-18T15:55:06.518725",
     "status": "completed"
    },
    "tags": []
   },
   "outputs": [],
   "source": [
    "class customModel(torch.nn.Module):\n",
    "    def __init__(self, pretrainedModel):\n",
    "        super(customModel, self).__init__()\n",
    "        self.pretrainedModel = pretrainedModel\n",
    "        \n",
    "        self.classifier = torch.nn.Sequential(\n",
    "            torch.nn.Dropout(p=0.25),\n",
    "            torch.nn.Linear(1000, 1),\n",
    "            torch.nn.Sigmoid()\n",
    "        )\n",
    "        \n",
    "    def forward(self, x):\n",
    "        x = self.pretrainedModel(x)\n",
    "        x = self.classifier(x)\n",
    "        return x"
   ]
  },
  {
   "cell_type": "code",
   "execution_count": 4,
   "id": "d952a8e6",
   "metadata": {
    "execution": {
     "iopub.execute_input": "2024-07-18T15:55:06.537944Z",
     "iopub.status.busy": "2024-07-18T15:55:06.537474Z",
     "iopub.status.idle": "2024-07-18T15:55:06.555446Z",
     "shell.execute_reply": "2024-07-18T15:55:06.554586Z"
    },
    "papermill": {
     "duration": 0.023968,
     "end_time": "2024-07-18T15:55:06.557424",
     "exception": false,
     "start_time": "2024-07-18T15:55:06.533456",
     "status": "completed"
    },
    "tags": []
   },
   "outputs": [],
   "source": [
    "test_metadata = pd.read_csv('/kaggle/input/isic-2024-challenge/test-metadata.csv')"
   ]
  },
  {
   "cell_type": "code",
   "execution_count": 5,
   "id": "3c5b14f1",
   "metadata": {
    "execution": {
     "iopub.execute_input": "2024-07-18T15:55:06.565593Z",
     "iopub.status.busy": "2024-07-18T15:55:06.564753Z",
     "iopub.status.idle": "2024-07-18T15:55:06.579219Z",
     "shell.execute_reply": "2024-07-18T15:55:06.578557Z"
    },
    "papermill": {
     "duration": 0.020355,
     "end_time": "2024-07-18T15:55:06.581056",
     "exception": false,
     "start_time": "2024-07-18T15:55:06.560701",
     "status": "completed"
    },
    "tags": []
   },
   "outputs": [],
   "source": [
    "transforms_test = A.Compose([\n",
    "    A.Resize(300, 300, interpolation=2),\n",
    "    A.Normalize(mean=(0.485, 0.456, 0.406), std=(0.229, 0.224, 0.225)),\n",
    "    ToTensorV2()\n",
    "])\n",
    "\n",
    "test = TestDataset(test_metadata, '/kaggle/input/isic-2024-challenge/test-image.hdf5', augmentation=transforms_test)\n",
    "\n",
    "testLoader = DataLoader(test, batch_size=64, shuffle=False)\n"
   ]
  },
  {
   "cell_type": "code",
   "execution_count": 6,
   "id": "06995606",
   "metadata": {
    "execution": {
     "iopub.execute_input": "2024-07-18T15:55:06.588528Z",
     "iopub.status.busy": "2024-07-18T15:55:06.588073Z",
     "iopub.status.idle": "2024-07-18T15:55:06.648724Z",
     "shell.execute_reply": "2024-07-18T15:55:06.647841Z"
    },
    "papermill": {
     "duration": 0.066721,
     "end_time": "2024-07-18T15:55:06.650958",
     "exception": false,
     "start_time": "2024-07-18T15:55:06.584237",
     "status": "completed"
    },
    "tags": []
   },
   "outputs": [
    {
     "name": "stdout",
     "output_type": "stream",
     "text": [
      "GPU is available\n"
     ]
    }
   ],
   "source": [
    "if torch.cuda.is_available():\n",
    "    print(\"GPU is available\")\n",
    "    device = torch.device(\"cuda\")\n",
    "else:\n",
    "    print(\"GPU is not available, using CPU instead\")\n",
    "    device = torch.device(\"cpu\")"
   ]
  },
  {
   "cell_type": "code",
   "execution_count": 7,
   "id": "490dbee9",
   "metadata": {
    "execution": {
     "iopub.execute_input": "2024-07-18T15:55:06.658713Z",
     "iopub.status.busy": "2024-07-18T15:55:06.658452Z",
     "iopub.status.idle": "2024-07-18T15:55:07.994874Z",
     "shell.execute_reply": "2024-07-18T15:55:07.994102Z"
    },
    "papermill": {
     "duration": 1.342875,
     "end_time": "2024-07-18T15:55:07.997193",
     "exception": false,
     "start_time": "2024-07-18T15:55:06.654318",
     "status": "completed"
    },
    "tags": []
   },
   "outputs": [],
   "source": [
    "pretrainedModel = efficientnet_b3()\n",
    "model = customModel(pretrainedModel)\n",
    "model.load_state_dict(torch.load('/kaggle/input/skin-cancer-model-training/model_params_epoch_4.pt'))\n",
    "model = model.to(device)"
   ]
  },
  {
   "cell_type": "code",
   "execution_count": 8,
   "id": "8fe8689a",
   "metadata": {
    "execution": {
     "iopub.execute_input": "2024-07-18T15:55:08.005930Z",
     "iopub.status.busy": "2024-07-18T15:55:08.005378Z",
     "iopub.status.idle": "2024-07-18T15:55:08.748994Z",
     "shell.execute_reply": "2024-07-18T15:55:08.748207Z"
    },
    "papermill": {
     "duration": 0.750327,
     "end_time": "2024-07-18T15:55:08.751353",
     "exception": false,
     "start_time": "2024-07-18T15:55:08.001026",
     "status": "completed"
    },
    "tags": []
   },
   "outputs": [],
   "source": [
    "with open('submission.csv', 'w', newline='') as csvfile:\n",
    "    writer = csv.writer(csvfile, delimiter=',')\n",
    "    writer.writerow(['isic_id','target'])\n",
    "    \n",
    "    model.eval()\n",
    "    with torch.no_grad():\n",
    "        for images, cases in testLoader:\n",
    "            images = images.to(device)\n",
    "            preds = model(images)\n",
    "            \n",
    "            rows = list(zip(cases, preds.squeeze(dim=1).detach().cpu().numpy()))\n",
    "            writer.writerows(rows)"
   ]
  },
  {
   "cell_type": "code",
   "execution_count": 9,
   "id": "cb35d788",
   "metadata": {
    "execution": {
     "iopub.execute_input": "2024-07-18T15:55:08.759689Z",
     "iopub.status.busy": "2024-07-18T15:55:08.759393Z",
     "iopub.status.idle": "2024-07-18T15:55:08.763934Z",
     "shell.execute_reply": "2024-07-18T15:55:08.763054Z"
    },
    "papermill": {
     "duration": 0.010837,
     "end_time": "2024-07-18T15:55:08.765831",
     "exception": false,
     "start_time": "2024-07-18T15:55:08.754994",
     "status": "completed"
    },
    "tags": []
   },
   "outputs": [
    {
     "name": "stdout",
     "output_type": "stream",
     "text": [
      "Data has been written to submission.csv\n"
     ]
    }
   ],
   "source": [
    "print(f\"Data has been written to submission.csv\")"
   ]
  }
 ],
 "metadata": {
  "kaggle": {
   "accelerator": "gpu",
   "dataSources": [
    {
     "databundleVersionId": 8940774,
     "sourceId": 63056,
     "sourceType": "competition"
    },
    {
     "sourceId": 187519406,
     "sourceType": "kernelVersion"
    },
    {
     "sourceId": 188678442,
     "sourceType": "kernelVersion"
    }
   ],
   "dockerImageVersionId": 30732,
   "isGpuEnabled": true,
   "isInternetEnabled": false,
   "language": "python",
   "sourceType": "notebook"
  },
  "kernelspec": {
   "display_name": "Python 3",
   "language": "python",
   "name": "python3"
  },
  "language_info": {
   "codemirror_mode": {
    "name": "ipython",
    "version": 3
   },
   "file_extension": ".py",
   "mimetype": "text/x-python",
   "name": "python",
   "nbconvert_exporter": "python",
   "pygments_lexer": "ipython3",
   "version": "3.10.13"
  },
  "papermill": {
   "default_parameters": {},
   "duration": 16.190448,
   "end_time": "2024-07-18T15:55:11.261627",
   "environment_variables": {},
   "exception": null,
   "input_path": "__notebook__.ipynb",
   "output_path": "__notebook__.ipynb",
   "parameters": {},
   "start_time": "2024-07-18T15:54:55.071179",
   "version": "2.5.0"
  }
 },
 "nbformat": 4,
 "nbformat_minor": 5
}
